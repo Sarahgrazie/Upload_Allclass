{
 "cells": [
  {
   "cell_type": "code",
   "execution_count": 28,
   "metadata": {},
   "outputs": [],
   "source": [
    "## 문서 군집화\n",
    "import numpy as np\n",
    "import pandas as pd\n",
    "import glob, os\n",
    "import warnings\n",
    "warnings.filterwarnings(\"ignore\")\n",
    "\n",
    "path =r\"C:\\education\\ml_dev\\ch08\\topics\"    # r : raw 역슬래시를 그대로 표시할때 사용"
   ]
  },
  {
   "cell_type": "code",
   "execution_count": 29,
   "metadata": {},
   "outputs": [
    {
     "data": {
      "text/plain": [
       "['C:\\\\education\\\\ml_dev\\\\ch08\\\\topics\\\\accuracy_garmin_nuvi_255W_gps.txt.data',\n",
       " 'C:\\\\education\\\\ml_dev\\\\ch08\\\\topics\\\\bathroom_bestwestern_hotel_sfo.txt.data',\n",
       " 'C:\\\\education\\\\ml_dev\\\\ch08\\\\topics\\\\battery-life_amazon_kindle.txt.data',\n",
       " 'C:\\\\education\\\\ml_dev\\\\ch08\\\\topics\\\\battery-life_ipod_nano_8gb.txt.data',\n",
       " 'C:\\\\education\\\\ml_dev\\\\ch08\\\\topics\\\\battery-life_netbook_1005ha.txt.data',\n",
       " 'C:\\\\education\\\\ml_dev\\\\ch08\\\\topics\\\\buttons_amazon_kindle.txt.data',\n",
       " 'C:\\\\education\\\\ml_dev\\\\ch08\\\\topics\\\\comfort_honda_accord_2008.txt.data',\n",
       " 'C:\\\\education\\\\ml_dev\\\\ch08\\\\topics\\\\comfort_toyota_camry_2007.txt.data',\n",
       " 'C:\\\\education\\\\ml_dev\\\\ch08\\\\topics\\\\directions_garmin_nuvi_255W_gps.txt.data',\n",
       " 'C:\\\\education\\\\ml_dev\\\\ch08\\\\topics\\\\display_garmin_nuvi_255W_gps.txt.data',\n",
       " 'C:\\\\education\\\\ml_dev\\\\ch08\\\\topics\\\\eyesight-issues_amazon_kindle.txt.data',\n",
       " 'C:\\\\education\\\\ml_dev\\\\ch08\\\\topics\\\\features_windows7.txt.data',\n",
       " 'C:\\\\education\\\\ml_dev\\\\ch08\\\\topics\\\\fonts_amazon_kindle.txt.data',\n",
       " 'C:\\\\education\\\\ml_dev\\\\ch08\\\\topics\\\\food_holiday_inn_london.txt.data',\n",
       " 'C:\\\\education\\\\ml_dev\\\\ch08\\\\topics\\\\food_swissotel_chicago.txt.data',\n",
       " 'C:\\\\education\\\\ml_dev\\\\ch08\\\\topics\\\\free_bestwestern_hotel_sfo.txt.data',\n",
       " 'C:\\\\education\\\\ml_dev\\\\ch08\\\\topics\\\\gas_mileage_toyota_camry_2007.txt.data',\n",
       " 'C:\\\\education\\\\ml_dev\\\\ch08\\\\topics\\\\interior_honda_accord_2008.txt.data',\n",
       " 'C:\\\\education\\\\ml_dev\\\\ch08\\\\topics\\\\interior_toyota_camry_2007.txt.data',\n",
       " 'C:\\\\education\\\\ml_dev\\\\ch08\\\\topics\\\\keyboard_netbook_1005ha.txt.data',\n",
       " 'C:\\\\education\\\\ml_dev\\\\ch08\\\\topics\\\\location_bestwestern_hotel_sfo.txt.data',\n",
       " 'C:\\\\education\\\\ml_dev\\\\ch08\\\\topics\\\\location_holiday_inn_london.txt.data',\n",
       " 'C:\\\\education\\\\ml_dev\\\\ch08\\\\topics\\\\mileage_honda_accord_2008.txt.data',\n",
       " 'C:\\\\education\\\\ml_dev\\\\ch08\\\\topics\\\\navigation_amazon_kindle.txt.data',\n",
       " 'C:\\\\education\\\\ml_dev\\\\ch08\\\\topics\\\\parking_bestwestern_hotel_sfo.txt.data',\n",
       " 'C:\\\\education\\\\ml_dev\\\\ch08\\\\topics\\\\performance_honda_accord_2008.txt.data',\n",
       " 'C:\\\\education\\\\ml_dev\\\\ch08\\\\topics\\\\performance_netbook_1005ha.txt.data',\n",
       " 'C:\\\\education\\\\ml_dev\\\\ch08\\\\topics\\\\price_amazon_kindle.txt.data',\n",
       " 'C:\\\\education\\\\ml_dev\\\\ch08\\\\topics\\\\price_holiday_inn_london.txt.data',\n",
       " 'C:\\\\education\\\\ml_dev\\\\ch08\\\\topics\\\\quality_toyota_camry_2007.txt.data',\n",
       " 'C:\\\\education\\\\ml_dev\\\\ch08\\\\topics\\\\rooms_bestwestern_hotel_sfo.txt.data',\n",
       " 'C:\\\\education\\\\ml_dev\\\\ch08\\\\topics\\\\rooms_swissotel_chicago.txt.data',\n",
       " 'C:\\\\education\\\\ml_dev\\\\ch08\\\\topics\\\\room_holiday_inn_london.txt.data',\n",
       " 'C:\\\\education\\\\ml_dev\\\\ch08\\\\topics\\\\satellite_garmin_nuvi_255W_gps.txt.data',\n",
       " 'C:\\\\education\\\\ml_dev\\\\ch08\\\\topics\\\\screen_garmin_nuvi_255W_gps.txt.data',\n",
       " 'C:\\\\education\\\\ml_dev\\\\ch08\\\\topics\\\\screen_ipod_nano_8gb.txt.data',\n",
       " 'C:\\\\education\\\\ml_dev\\\\ch08\\\\topics\\\\screen_netbook_1005ha.txt.data',\n",
       " 'C:\\\\education\\\\ml_dev\\\\ch08\\\\topics\\\\seats_honda_accord_2008.txt.data',\n",
       " 'C:\\\\education\\\\ml_dev\\\\ch08\\\\topics\\\\service_bestwestern_hotel_sfo.txt.data',\n",
       " 'C:\\\\education\\\\ml_dev\\\\ch08\\\\topics\\\\service_holiday_inn_london.txt.data',\n",
       " 'C:\\\\education\\\\ml_dev\\\\ch08\\\\topics\\\\service_swissotel_hotel_chicago.txt.data',\n",
       " 'C:\\\\education\\\\ml_dev\\\\ch08\\\\topics\\\\size_asus_netbook_1005ha.txt.data',\n",
       " 'C:\\\\education\\\\ml_dev\\\\ch08\\\\topics\\\\sound_ipod_nano_8gb.txt.data',\n",
       " 'C:\\\\education\\\\ml_dev\\\\ch08\\\\topics\\\\speed_garmin_nuvi_255W_gps.txt.data',\n",
       " 'C:\\\\education\\\\ml_dev\\\\ch08\\\\topics\\\\speed_windows7.txt.data',\n",
       " 'C:\\\\education\\\\ml_dev\\\\ch08\\\\topics\\\\staff_bestwestern_hotel_sfo.txt.data',\n",
       " 'C:\\\\education\\\\ml_dev\\\\ch08\\\\topics\\\\staff_swissotel_chicago.txt.data',\n",
       " 'C:\\\\education\\\\ml_dev\\\\ch08\\\\topics\\\\transmission_toyota_camry_2007.txt.data',\n",
       " 'C:\\\\education\\\\ml_dev\\\\ch08\\\\topics\\\\updates_garmin_nuvi_255W_gps.txt.data',\n",
       " 'C:\\\\education\\\\ml_dev\\\\ch08\\\\topics\\\\video_ipod_nano_8gb.txt.data',\n",
       " 'C:\\\\education\\\\ml_dev\\\\ch08\\\\topics\\\\voice_garmin_nuvi_255W_gps.txt.data']"
      ]
     },
     "execution_count": 29,
     "metadata": {},
     "output_type": "execute_result"
    }
   ],
   "source": [
    "# topics 디렉토리 안에 있는 특정 파일 목록(리스트)\n",
    "all_files = glob.glob(os.path.join(path,\"*data\"))   # os에 맞게끔 파일을 가져온다\n",
    "all_files"
   ]
  },
  {
   "cell_type": "code",
   "execution_count": 30,
   "metadata": {},
   "outputs": [
    {
     "data": {
      "text/html": [
       "<div>\n",
       "<style scoped>\n",
       "    .dataframe tbody tr th:only-of-type {\n",
       "        vertical-align: middle;\n",
       "    }\n",
       "\n",
       "    .dataframe tbody tr th {\n",
       "        vertical-align: top;\n",
       "    }\n",
       "\n",
       "    .dataframe thead th {\n",
       "        text-align: right;\n",
       "    }\n",
       "</style>\n",
       "<table border=\"1\" class=\"dataframe\">\n",
       "  <thead>\n",
       "    <tr style=\"text-align: right;\">\n",
       "      <th></th>\n",
       "      <th>0</th>\n",
       "    </tr>\n",
       "  </thead>\n",
       "  <tbody>\n",
       "    <tr>\n",
       "      <th>0</th>\n",
       "      <td>, and is very, very accurate .</td>\n",
       "    </tr>\n",
       "    <tr>\n",
       "      <th>1</th>\n",
       "      <td>but for the most part, we find that the Garmi...</td>\n",
       "    </tr>\n",
       "    <tr>\n",
       "      <th>2</th>\n",
       "      <td>This function is not accurate if you don't le...</td>\n",
       "    </tr>\n",
       "    <tr>\n",
       "      <th>3</th>\n",
       "      <td>It provides immediate alternatives if the rou...</td>\n",
       "    </tr>\n",
       "    <tr>\n",
       "      <th>4</th>\n",
       "      <td>I've used other GPS units, as well as GPS bui...</td>\n",
       "    </tr>\n",
       "  </tbody>\n",
       "</table>\n",
       "</div>"
      ],
      "text/plain": [
       "                                                   0\n",
       "0                     , and is very, very accurate .\n",
       "1   but for the most part, we find that the Garmi...\n",
       "2   This function is not accurate if you don't le...\n",
       "3   It provides immediate alternatives if the rou...\n",
       "4   I've used other GPS units, as well as GPS bui..."
      ]
     },
     "execution_count": 30,
     "metadata": {},
     "output_type": "execute_result"
    }
   ],
   "source": [
    "# 파일명 저장하는 리스트 만들기(여러개 저장)\n",
    "filenames = []\n",
    "# 리뷰를 저장하는 리스트 만들기\n",
    "opinion_text = []\n",
    "\n",
    "# 첫번쨰 파일 읽기 => 처리 설명\n",
    "file_ = all_files[0] # 첫번쨰 파일명\n",
    "\n",
    "df=pd.read_table(file_, index_col=None, header=None, encoding=\"latin1\")\n",
    "df.head()\n"
   ]
  },
  {
   "cell_type": "code",
   "execution_count": null,
   "metadata": {},
   "outputs": [],
   "source": [
    "# 절대경로로 주어진 파일명을 가공.\n",
    "# 맨 마지막 .data 확장자 제거\n",
    "# file_.split(\"\\\\\")[-1].split(\".\")[0]\n",
    "file_.split(\"\\\\\")"
   ]
  },
  {
   "cell_type": "code",
   "execution_count": null,
   "metadata": {},
   "outputs": [],
   "source": [
    "file_.split(\"\\\\\")[-1]"
   ]
  },
  {
   "cell_type": "code",
   "execution_count": null,
   "metadata": {},
   "outputs": [],
   "source": [
    "filename_ = file_.split(\"\\\\\")[-1]\n",
    "filename_.split(\".\")"
   ]
  },
  {
   "cell_type": "code",
   "execution_count": null,
   "metadata": {},
   "outputs": [],
   "source": [
    "filename = filename_.split(\".\")[0]\n",
    "filename"
   ]
  },
  {
   "cell_type": "code",
   "execution_count": null,
   "metadata": {},
   "outputs": [],
   "source": [
    "filenames.append(filename)\n",
    "opinion_text.append(df.to_string())"
   ]
  },
  {
   "cell_type": "code",
   "execution_count": null,
   "metadata": {},
   "outputs": [],
   "source": [
    "df.head(3)"
   ]
  },
  {
   "cell_type": "code",
   "execution_count": null,
   "metadata": {},
   "outputs": [],
   "source": [
    "df.to_string()"
   ]
  },
  {
   "cell_type": "code",
   "execution_count": 32,
   "metadata": {},
   "outputs": [
    {
     "data": {
      "text/plain": [
       "['accuracy_garmin_nuvi_255W_gps',\n",
       " 'bathroom_bestwestern_hotel_sfo',\n",
       " 'battery-life_amazon_kindle',\n",
       " 'battery-life_ipod_nano_8gb',\n",
       " 'battery-life_netbook_1005ha',\n",
       " 'buttons_amazon_kindle',\n",
       " 'comfort_honda_accord_2008',\n",
       " 'comfort_toyota_camry_2007',\n",
       " 'directions_garmin_nuvi_255W_gps',\n",
       " 'display_garmin_nuvi_255W_gps',\n",
       " 'eyesight-issues_amazon_kindle',\n",
       " 'features_windows7',\n",
       " 'fonts_amazon_kindle',\n",
       " 'food_holiday_inn_london',\n",
       " 'food_swissotel_chicago',\n",
       " 'free_bestwestern_hotel_sfo',\n",
       " 'gas_mileage_toyota_camry_2007',\n",
       " 'interior_honda_accord_2008',\n",
       " 'interior_toyota_camry_2007',\n",
       " 'keyboard_netbook_1005ha',\n",
       " 'location_bestwestern_hotel_sfo',\n",
       " 'location_holiday_inn_london',\n",
       " 'mileage_honda_accord_2008',\n",
       " 'navigation_amazon_kindle',\n",
       " 'parking_bestwestern_hotel_sfo',\n",
       " 'performance_honda_accord_2008',\n",
       " 'performance_netbook_1005ha',\n",
       " 'price_amazon_kindle',\n",
       " 'price_holiday_inn_london',\n",
       " 'quality_toyota_camry_2007',\n",
       " 'rooms_bestwestern_hotel_sfo',\n",
       " 'rooms_swissotel_chicago',\n",
       " 'room_holiday_inn_london',\n",
       " 'satellite_garmin_nuvi_255W_gps',\n",
       " 'screen_garmin_nuvi_255W_gps',\n",
       " 'screen_ipod_nano_8gb',\n",
       " 'screen_netbook_1005ha',\n",
       " 'seats_honda_accord_2008',\n",
       " 'service_bestwestern_hotel_sfo',\n",
       " 'service_holiday_inn_london',\n",
       " 'service_swissotel_hotel_chicago',\n",
       " 'size_asus_netbook_1005ha',\n",
       " 'sound_ipod_nano_8gb',\n",
       " 'speed_garmin_nuvi_255W_gps',\n",
       " 'speed_windows7',\n",
       " 'staff_bestwestern_hotel_sfo',\n",
       " 'staff_swissotel_chicago',\n",
       " 'transmission_toyota_camry_2007',\n",
       " 'updates_garmin_nuvi_255W_gps',\n",
       " 'video_ipod_nano_8gb',\n",
       " 'voice_garmin_nuvi_255W_gps']"
      ]
     },
     "execution_count": 32,
     "metadata": {},
     "output_type": "execute_result"
    }
   ],
   "source": [
    "# 51개 파일을 반복 처리\n",
    "for file_ in all_files:\n",
    "    df = pd.read_table(file_, index_col=None, header=None, encoding=\"latin1\")\n",
    "    filename_ = file_.split(\"\\\\\")[-1]\n",
    "    filename = filename_.split(\".\")[0]\n",
    "    \n",
    "    filenames.append(filename)\n",
    "    opinion_text.append(df.to_string())\n",
    "    \n",
    "filenames"
   ]
  },
  {
   "cell_type": "code",
   "execution_count": 33,
   "metadata": {},
   "outputs": [
    {
     "data": {
      "text/html": [
       "<div>\n",
       "<style scoped>\n",
       "    .dataframe tbody tr th:only-of-type {\n",
       "        vertical-align: middle;\n",
       "    }\n",
       "\n",
       "    .dataframe tbody tr th {\n",
       "        vertical-align: top;\n",
       "    }\n",
       "\n",
       "    .dataframe thead th {\n",
       "        text-align: right;\n",
       "    }\n",
       "</style>\n",
       "<table border=\"1\" class=\"dataframe\">\n",
       "  <thead>\n",
       "    <tr style=\"text-align: right;\">\n",
       "      <th></th>\n",
       "      <th>filename</th>\n",
       "      <th>opinion_text</th>\n",
       "    </tr>\n",
       "  </thead>\n",
       "  <tbody>\n",
       "    <tr>\n",
       "      <th>0</th>\n",
       "      <td>accuracy_garmin_nuvi_255W_gps</td>\n",
       "      <td>...</td>\n",
       "    </tr>\n",
       "    <tr>\n",
       "      <th>1</th>\n",
       "      <td>bathroom_bestwestern_hotel_sfo</td>\n",
       "      <td>...</td>\n",
       "    </tr>\n",
       "    <tr>\n",
       "      <th>2</th>\n",
       "      <td>battery-life_amazon_kindle</td>\n",
       "      <td>...</td>\n",
       "    </tr>\n",
       "  </tbody>\n",
       "</table>\n",
       "</div>"
      ],
      "text/plain": [
       "                         filename  \\\n",
       "0   accuracy_garmin_nuvi_255W_gps   \n",
       "1  bathroom_bestwestern_hotel_sfo   \n",
       "2      battery-life_amazon_kindle   \n",
       "\n",
       "                                        opinion_text  \n",
       "0                                                ...  \n",
       "1                                                ...  \n",
       "2                                                ...  "
      ]
     },
     "execution_count": 33,
     "metadata": {},
     "output_type": "execute_result"
    }
   ],
   "source": [
    "# 데이터프레임 생성\n",
    "doc_df = pd.DataFrame({\n",
    "    \"filename\" : filenames\n",
    "    , \"opinion_text\" : opinion_text\n",
    "})\n",
    "doc_df.head(3)"
   ]
  },
  {
   "cell_type": "code",
   "execution_count": 34,
   "metadata": {},
   "outputs": [
    {
     "data": {
      "text/plain": [
       "'!\"#$%&\\'()*+,-./:;<=>?@[\\\\]^_`{|}~'"
      ]
     },
     "execution_count": 34,
     "metadata": {},
     "output_type": "execute_result"
    }
   ],
   "source": [
    "import string\n",
    "string.punctuation"
   ]
  },
  {
   "cell_type": "code",
   "execution_count": 35,
   "metadata": {},
   "outputs": [
    {
     "data": {
      "text/plain": [
       "33"
      ]
     },
     "execution_count": 35,
     "metadata": {},
     "output_type": "execute_result"
    }
   ],
   "source": [
    "ord(\"!\")"
   ]
  },
  {
   "cell_type": "code",
   "execution_count": 36,
   "metadata": {},
   "outputs": [],
   "source": [
    "from nltk.stem import WordNetLemmatizer\n",
    "import nltk\n",
    "import string\n",
    "\n",
    "remove_punct_dict = dict((ord(punct), None) for punct in string.punctuation)\n",
    "lemmar = WordNetLemmatizer() # 어근 추출\n",
    "\n",
    "# 입력으로 들어온 token단어들에 대해서 lemmatization 어근 변환. \n",
    "def LemTokens(tokens):\n",
    "    return [lemmar.lemmatize(token) for token in tokens] # 어근 추출 후 리스트로 반환\n",
    "\n",
    "# TfidfVectorizer 객체 생성 시 tokenizer인자로 해당 함수를 설정하여 lemmatization 적용\n",
    "# 입력으로 문장을 받아서 stop words 제거-> 소문자 변환 -> 단어 토큰화 -> lemmatization 어근 변환. \n",
    "def LemNormalize(text):\n",
    "    return LemTokens(nltk.word_tokenize(text.lower().translate(remove_punct_dict)))"
   ]
  },
  {
   "cell_type": "code",
   "execution_count": 37,
   "metadata": {},
   "outputs": [],
   "source": [
    "from sklearn.feature_extraction.text import TfidfVectorizer\n",
    "\n",
    "tfidf_vect = TfidfVectorizer(\n",
    "      tokenizer=LemNormalize\n",
    "    , stop_words='english'\n",
    "    , ngram_range=(1,2)\n",
    "    , min_df=0.05\n",
    "    , max_df=0.85 \n",
    ")"
   ]
  },
  {
   "cell_type": "code",
   "execution_count": 40,
   "metadata": {},
   "outputs": [
    {
     "data": {
      "text/plain": [
       "<51x4604 sparse matrix of type '<class 'numpy.float64'>'\n",
       "\twith 30104 stored elements in Compressed Sparse Row format>"
      ]
     },
     "execution_count": 40,
     "metadata": {},
     "output_type": "execute_result"
    }
   ],
   "source": [
    "feature_vect = tfidf_vect.fit_transform(doc_df['opinion_text'])\n",
    "feature_vect"
   ]
  },
  {
   "cell_type": "code",
   "execution_count": 42,
   "metadata": {},
   "outputs": [
    {
     "name": "stderr",
     "output_type": "stream",
     "text": [
      "  File \"c:\\ProgramData\\anaconda3\\envs\\ml_dev\\lib\\site-packages\\joblib\\externals\\loky\\backend\\context.py\", line 257, in _count_physical_cores\n",
      "    cpu_info = subprocess.run(\n",
      "  File \"c:\\ProgramData\\anaconda3\\envs\\ml_dev\\lib\\subprocess.py\", line 503, in run\n",
      "    with Popen(*popenargs, **kwargs) as process:\n",
      "  File \"c:\\ProgramData\\anaconda3\\envs\\ml_dev\\lib\\subprocess.py\", line 971, in __init__\n",
      "    self._execute_child(args, executable, preexec_fn, close_fds,\n",
      "  File \"c:\\ProgramData\\anaconda3\\envs\\ml_dev\\lib\\subprocess.py\", line 1456, in _execute_child\n",
      "    hp, ht, pid, tid = _winapi.CreateProcess(executable, args,\n"
     ]
    }
   ],
   "source": [
    "from sklearn.cluster import KMeans\n",
    "\n",
    "km_cluster = KMeans(n_clusters=5, max_iter=10000, random_state=0)\n",
    "km_cluster.fit(feature_vect)\n",
    "cluster_label = km_cluster.labels_\n",
    "cluster_centers = km_cluster.cluster_centers_"
   ]
  },
  {
   "cell_type": "code",
   "execution_count": 43,
   "metadata": {},
   "outputs": [
    {
     "data": {
      "text/html": [
       "<div>\n",
       "<style scoped>\n",
       "    .dataframe tbody tr th:only-of-type {\n",
       "        vertical-align: middle;\n",
       "    }\n",
       "\n",
       "    .dataframe tbody tr th {\n",
       "        vertical-align: top;\n",
       "    }\n",
       "\n",
       "    .dataframe thead th {\n",
       "        text-align: right;\n",
       "    }\n",
       "</style>\n",
       "<table border=\"1\" class=\"dataframe\">\n",
       "  <thead>\n",
       "    <tr style=\"text-align: right;\">\n",
       "      <th></th>\n",
       "      <th>filename</th>\n",
       "      <th>opinion_text</th>\n",
       "      <th>cluster_label</th>\n",
       "    </tr>\n",
       "  </thead>\n",
       "  <tbody>\n",
       "    <tr>\n",
       "      <th>0</th>\n",
       "      <td>accuracy_garmin_nuvi_255W_gps</td>\n",
       "      <td>...</td>\n",
       "      <td>4</td>\n",
       "    </tr>\n",
       "    <tr>\n",
       "      <th>1</th>\n",
       "      <td>bathroom_bestwestern_hotel_sfo</td>\n",
       "      <td>...</td>\n",
       "      <td>3</td>\n",
       "    </tr>\n",
       "    <tr>\n",
       "      <th>2</th>\n",
       "      <td>battery-life_amazon_kindle</td>\n",
       "      <td>...</td>\n",
       "      <td>1</td>\n",
       "    </tr>\n",
       "    <tr>\n",
       "      <th>3</th>\n",
       "      <td>battery-life_ipod_nano_8gb</td>\n",
       "      <td>...</td>\n",
       "      <td>1</td>\n",
       "    </tr>\n",
       "    <tr>\n",
       "      <th>4</th>\n",
       "      <td>battery-life_netbook_1005ha</td>\n",
       "      <td>...</td>\n",
       "      <td>1</td>\n",
       "    </tr>\n",
       "  </tbody>\n",
       "</table>\n",
       "</div>"
      ],
      "text/plain": [
       "                         filename  \\\n",
       "0   accuracy_garmin_nuvi_255W_gps   \n",
       "1  bathroom_bestwestern_hotel_sfo   \n",
       "2      battery-life_amazon_kindle   \n",
       "3      battery-life_ipod_nano_8gb   \n",
       "4     battery-life_netbook_1005ha   \n",
       "\n",
       "                                        opinion_text  cluster_label  \n",
       "0                                                ...              4  \n",
       "1                                                ...              3  \n",
       "2                                                ...              1  \n",
       "3                                                ...              1  \n",
       "4                                                ...              1  "
      ]
     },
     "execution_count": 43,
     "metadata": {},
     "output_type": "execute_result"
    }
   ],
   "source": [
    "doc_df['cluster_label'] = cluster_label\n",
    "doc_df.head()"
   ]
  },
  {
   "cell_type": "code",
   "execution_count": 45,
   "metadata": {},
   "outputs": [
    {
     "data": {
      "text/html": [
       "<div>\n",
       "<style scoped>\n",
       "    .dataframe tbody tr th:only-of-type {\n",
       "        vertical-align: middle;\n",
       "    }\n",
       "\n",
       "    .dataframe tbody tr th {\n",
       "        vertical-align: top;\n",
       "    }\n",
       "\n",
       "    .dataframe thead th {\n",
       "        text-align: right;\n",
       "    }\n",
       "</style>\n",
       "<table border=\"1\" class=\"dataframe\">\n",
       "  <thead>\n",
       "    <tr style=\"text-align: right;\">\n",
       "      <th></th>\n",
       "      <th>filename</th>\n",
       "      <th>opinion_text</th>\n",
       "      <th>cluster_label</th>\n",
       "    </tr>\n",
       "  </thead>\n",
       "  <tbody>\n",
       "    <tr>\n",
       "      <th>17</th>\n",
       "      <td>interior_honda_accord_2008</td>\n",
       "      <td>...</td>\n",
       "      <td>0</td>\n",
       "    </tr>\n",
       "    <tr>\n",
       "      <th>18</th>\n",
       "      <td>interior_toyota_camry_2007</td>\n",
       "      <td>...</td>\n",
       "      <td>0</td>\n",
       "    </tr>\n",
       "  </tbody>\n",
       "</table>\n",
       "</div>"
      ],
      "text/plain": [
       "                      filename  \\\n",
       "17  interior_honda_accord_2008   \n",
       "18  interior_toyota_camry_2007   \n",
       "\n",
       "                                         opinion_text  cluster_label  \n",
       "17                                                ...              0  \n",
       "18                                                ...              0  "
      ]
     },
     "execution_count": 45,
     "metadata": {},
     "output_type": "execute_result"
    }
   ],
   "source": [
    "doc_df[doc_df['cluster_label']==0].sort_values(by='filename')"
   ]
  },
  {
   "cell_type": "code",
   "execution_count": 44,
   "metadata": {},
   "outputs": [
    {
     "data": {
      "text/html": [
       "<div>\n",
       "<style scoped>\n",
       "    .dataframe tbody tr th:only-of-type {\n",
       "        vertical-align: middle;\n",
       "    }\n",
       "\n",
       "    .dataframe tbody tr th {\n",
       "        vertical-align: top;\n",
       "    }\n",
       "\n",
       "    .dataframe thead th {\n",
       "        text-align: right;\n",
       "    }\n",
       "</style>\n",
       "<table border=\"1\" class=\"dataframe\">\n",
       "  <thead>\n",
       "    <tr style=\"text-align: right;\">\n",
       "      <th></th>\n",
       "      <th>filename</th>\n",
       "      <th>opinion_text</th>\n",
       "      <th>cluster_label</th>\n",
       "    </tr>\n",
       "  </thead>\n",
       "  <tbody>\n",
       "    <tr>\n",
       "      <th>1</th>\n",
       "      <td>bathroom_bestwestern_hotel_sfo</td>\n",
       "      <td>...</td>\n",
       "      <td>3</td>\n",
       "    </tr>\n",
       "    <tr>\n",
       "      <th>13</th>\n",
       "      <td>food_holiday_inn_london</td>\n",
       "      <td>...</td>\n",
       "      <td>3</td>\n",
       "    </tr>\n",
       "    <tr>\n",
       "      <th>14</th>\n",
       "      <td>food_swissotel_chicago</td>\n",
       "      <td>...</td>\n",
       "      <td>3</td>\n",
       "    </tr>\n",
       "    <tr>\n",
       "      <th>15</th>\n",
       "      <td>free_bestwestern_hotel_sfo</td>\n",
       "      <td>...</td>\n",
       "      <td>3</td>\n",
       "    </tr>\n",
       "    <tr>\n",
       "      <th>20</th>\n",
       "      <td>location_bestwestern_hotel_sfo</td>\n",
       "      <td>...</td>\n",
       "      <td>3</td>\n",
       "    </tr>\n",
       "    <tr>\n",
       "      <th>21</th>\n",
       "      <td>location_holiday_inn_london</td>\n",
       "      <td>...</td>\n",
       "      <td>3</td>\n",
       "    </tr>\n",
       "    <tr>\n",
       "      <th>24</th>\n",
       "      <td>parking_bestwestern_hotel_sfo</td>\n",
       "      <td>...</td>\n",
       "      <td>3</td>\n",
       "    </tr>\n",
       "    <tr>\n",
       "      <th>28</th>\n",
       "      <td>price_holiday_inn_london</td>\n",
       "      <td>...</td>\n",
       "      <td>3</td>\n",
       "    </tr>\n",
       "    <tr>\n",
       "      <th>32</th>\n",
       "      <td>room_holiday_inn_london</td>\n",
       "      <td>...</td>\n",
       "      <td>3</td>\n",
       "    </tr>\n",
       "    <tr>\n",
       "      <th>30</th>\n",
       "      <td>rooms_bestwestern_hotel_sfo</td>\n",
       "      <td>...</td>\n",
       "      <td>3</td>\n",
       "    </tr>\n",
       "    <tr>\n",
       "      <th>31</th>\n",
       "      <td>rooms_swissotel_chicago</td>\n",
       "      <td>...</td>\n",
       "      <td>3</td>\n",
       "    </tr>\n",
       "    <tr>\n",
       "      <th>38</th>\n",
       "      <td>service_bestwestern_hotel_sfo</td>\n",
       "      <td>...</td>\n",
       "      <td>3</td>\n",
       "    </tr>\n",
       "    <tr>\n",
       "      <th>39</th>\n",
       "      <td>service_holiday_inn_london</td>\n",
       "      <td>...</td>\n",
       "      <td>3</td>\n",
       "    </tr>\n",
       "    <tr>\n",
       "      <th>40</th>\n",
       "      <td>service_swissotel_hotel_chicago</td>\n",
       "      <td>...</td>\n",
       "      <td>3</td>\n",
       "    </tr>\n",
       "    <tr>\n",
       "      <th>45</th>\n",
       "      <td>staff_bestwestern_hotel_sfo</td>\n",
       "      <td>...</td>\n",
       "      <td>3</td>\n",
       "    </tr>\n",
       "    <tr>\n",
       "      <th>46</th>\n",
       "      <td>staff_swissotel_chicago</td>\n",
       "      <td>...</td>\n",
       "      <td>3</td>\n",
       "    </tr>\n",
       "  </tbody>\n",
       "</table>\n",
       "</div>"
      ],
      "text/plain": [
       "                           filename  \\\n",
       "1    bathroom_bestwestern_hotel_sfo   \n",
       "13          food_holiday_inn_london   \n",
       "14           food_swissotel_chicago   \n",
       "15       free_bestwestern_hotel_sfo   \n",
       "20   location_bestwestern_hotel_sfo   \n",
       "21      location_holiday_inn_london   \n",
       "24    parking_bestwestern_hotel_sfo   \n",
       "28         price_holiday_inn_london   \n",
       "32          room_holiday_inn_london   \n",
       "30      rooms_bestwestern_hotel_sfo   \n",
       "31          rooms_swissotel_chicago   \n",
       "38    service_bestwestern_hotel_sfo   \n",
       "39       service_holiday_inn_london   \n",
       "40  service_swissotel_hotel_chicago   \n",
       "45      staff_bestwestern_hotel_sfo   \n",
       "46          staff_swissotel_chicago   \n",
       "\n",
       "                                         opinion_text  cluster_label  \n",
       "1                                                 ...              3  \n",
       "13                                                ...              3  \n",
       "14                                                ...              3  \n",
       "15                                                ...              3  \n",
       "20                                                ...              3  \n",
       "21                                                ...              3  \n",
       "24                                                ...              3  \n",
       "28                                                ...              3  \n",
       "32                                                ...              3  \n",
       "30                                                ...              3  \n",
       "31                                                ...              3  \n",
       "38                                                ...              3  \n",
       "39                                                ...              3  \n",
       "40                                                ...              3  \n",
       "45                                                ...              3  \n",
       "46                                                ...              3  "
      ]
     },
     "execution_count": 44,
     "metadata": {},
     "output_type": "execute_result"
    }
   ],
   "source": [
    "doc_df[doc_df['cluster_label']==3].sort_values(by='filename')"
   ]
  },
  {
   "cell_type": "code",
   "execution_count": 47,
   "metadata": {},
   "outputs": [
    {
     "data": {
      "text/html": [
       "<div>\n",
       "<style scoped>\n",
       "    .dataframe tbody tr th:only-of-type {\n",
       "        vertical-align: middle;\n",
       "    }\n",
       "\n",
       "    .dataframe tbody tr th {\n",
       "        vertical-align: top;\n",
       "    }\n",
       "\n",
       "    .dataframe thead th {\n",
       "        text-align: right;\n",
       "    }\n",
       "</style>\n",
       "<table border=\"1\" class=\"dataframe\">\n",
       "  <thead>\n",
       "    <tr style=\"text-align: right;\">\n",
       "      <th></th>\n",
       "      <th>filename</th>\n",
       "      <th>opinion_text</th>\n",
       "      <th>cluster_label</th>\n",
       "    </tr>\n",
       "  </thead>\n",
       "  <tbody>\n",
       "    <tr>\n",
       "      <th>6</th>\n",
       "      <td>comfort_honda_accord_2008</td>\n",
       "      <td>...</td>\n",
       "      <td>2</td>\n",
       "    </tr>\n",
       "    <tr>\n",
       "      <th>7</th>\n",
       "      <td>comfort_toyota_camry_2007</td>\n",
       "      <td>...</td>\n",
       "      <td>2</td>\n",
       "    </tr>\n",
       "    <tr>\n",
       "      <th>16</th>\n",
       "      <td>gas_mileage_toyota_camry_2007</td>\n",
       "      <td>...</td>\n",
       "      <td>2</td>\n",
       "    </tr>\n",
       "    <tr>\n",
       "      <th>22</th>\n",
       "      <td>mileage_honda_accord_2008</td>\n",
       "      <td>...</td>\n",
       "      <td>2</td>\n",
       "    </tr>\n",
       "    <tr>\n",
       "      <th>25</th>\n",
       "      <td>performance_honda_accord_2008</td>\n",
       "      <td>...</td>\n",
       "      <td>2</td>\n",
       "    </tr>\n",
       "    <tr>\n",
       "      <th>27</th>\n",
       "      <td>price_amazon_kindle</td>\n",
       "      <td>...</td>\n",
       "      <td>2</td>\n",
       "    </tr>\n",
       "    <tr>\n",
       "      <th>29</th>\n",
       "      <td>quality_toyota_camry_2007</td>\n",
       "      <td>...</td>\n",
       "      <td>2</td>\n",
       "    </tr>\n",
       "    <tr>\n",
       "      <th>37</th>\n",
       "      <td>seats_honda_accord_2008</td>\n",
       "      <td>...</td>\n",
       "      <td>2</td>\n",
       "    </tr>\n",
       "    <tr>\n",
       "      <th>47</th>\n",
       "      <td>transmission_toyota_camry_2007</td>\n",
       "      <td>...</td>\n",
       "      <td>2</td>\n",
       "    </tr>\n",
       "  </tbody>\n",
       "</table>\n",
       "</div>"
      ],
      "text/plain": [
       "                          filename  \\\n",
       "6        comfort_honda_accord_2008   \n",
       "7        comfort_toyota_camry_2007   \n",
       "16   gas_mileage_toyota_camry_2007   \n",
       "22       mileage_honda_accord_2008   \n",
       "25   performance_honda_accord_2008   \n",
       "27             price_amazon_kindle   \n",
       "29       quality_toyota_camry_2007   \n",
       "37         seats_honda_accord_2008   \n",
       "47  transmission_toyota_camry_2007   \n",
       "\n",
       "                                         opinion_text  cluster_label  \n",
       "6                                                 ...              2  \n",
       "7                                                 ...              2  \n",
       "16                                                ...              2  \n",
       "22                                                ...              2  \n",
       "25                                                ...              2  \n",
       "27                                                ...              2  \n",
       "29                                                ...              2  \n",
       "37                                                ...              2  \n",
       "47                                                ...              2  "
      ]
     },
     "execution_count": 47,
     "metadata": {},
     "output_type": "execute_result"
    }
   ],
   "source": [
    "doc_df[doc_df['cluster_label']==2].sort_values(by='filename')"
   ]
  },
  {
   "cell_type": "code",
   "execution_count": 50,
   "metadata": {},
   "outputs": [
    {
     "data": {
      "text/html": [
       "<div>\n",
       "<style scoped>\n",
       "    .dataframe tbody tr th:only-of-type {\n",
       "        vertical-align: middle;\n",
       "    }\n",
       "\n",
       "    .dataframe tbody tr th {\n",
       "        vertical-align: top;\n",
       "    }\n",
       "\n",
       "    .dataframe thead th {\n",
       "        text-align: right;\n",
       "    }\n",
       "</style>\n",
       "<table border=\"1\" class=\"dataframe\">\n",
       "  <thead>\n",
       "    <tr style=\"text-align: right;\">\n",
       "      <th></th>\n",
       "      <th>filename</th>\n",
       "      <th>opinion_text</th>\n",
       "      <th>cluster_label</th>\n",
       "    </tr>\n",
       "  </thead>\n",
       "  <tbody>\n",
       "    <tr>\n",
       "      <th>6</th>\n",
       "      <td>comfort_honda_accord_2008</td>\n",
       "      <td>...</td>\n",
       "      <td>2</td>\n",
       "    </tr>\n",
       "    <tr>\n",
       "      <th>7</th>\n",
       "      <td>comfort_toyota_camry_2007</td>\n",
       "      <td>...</td>\n",
       "      <td>2</td>\n",
       "    </tr>\n",
       "    <tr>\n",
       "      <th>16</th>\n",
       "      <td>gas_mileage_toyota_camry_2007</td>\n",
       "      <td>...</td>\n",
       "      <td>2</td>\n",
       "    </tr>\n",
       "    <tr>\n",
       "      <th>22</th>\n",
       "      <td>mileage_honda_accord_2008</td>\n",
       "      <td>...</td>\n",
       "      <td>2</td>\n",
       "    </tr>\n",
       "    <tr>\n",
       "      <th>25</th>\n",
       "      <td>performance_honda_accord_2008</td>\n",
       "      <td>...</td>\n",
       "      <td>2</td>\n",
       "    </tr>\n",
       "    <tr>\n",
       "      <th>27</th>\n",
       "      <td>price_amazon_kindle</td>\n",
       "      <td>...</td>\n",
       "      <td>2</td>\n",
       "    </tr>\n",
       "    <tr>\n",
       "      <th>29</th>\n",
       "      <td>quality_toyota_camry_2007</td>\n",
       "      <td>...</td>\n",
       "      <td>2</td>\n",
       "    </tr>\n",
       "    <tr>\n",
       "      <th>37</th>\n",
       "      <td>seats_honda_accord_2008</td>\n",
       "      <td>...</td>\n",
       "      <td>2</td>\n",
       "    </tr>\n",
       "    <tr>\n",
       "      <th>47</th>\n",
       "      <td>transmission_toyota_camry_2007</td>\n",
       "      <td>...</td>\n",
       "      <td>2</td>\n",
       "    </tr>\n",
       "  </tbody>\n",
       "</table>\n",
       "</div>"
      ],
      "text/plain": [
       "                          filename  \\\n",
       "6        comfort_honda_accord_2008   \n",
       "7        comfort_toyota_camry_2007   \n",
       "16   gas_mileage_toyota_camry_2007   \n",
       "22       mileage_honda_accord_2008   \n",
       "25   performance_honda_accord_2008   \n",
       "27             price_amazon_kindle   \n",
       "29       quality_toyota_camry_2007   \n",
       "37         seats_honda_accord_2008   \n",
       "47  transmission_toyota_camry_2007   \n",
       "\n",
       "                                         opinion_text  cluster_label  \n",
       "6                                                 ...              2  \n",
       "7                                                 ...              2  \n",
       "16                                                ...              2  \n",
       "22                                                ...              2  \n",
       "25                                                ...              2  \n",
       "27                                                ...              2  \n",
       "29                                                ...              2  \n",
       "37                                                ...              2  \n",
       "47                                                ...              2  "
      ]
     },
     "execution_count": 50,
     "metadata": {},
     "output_type": "execute_result"
    }
   ],
   "source": [
    "# 군집 == 0 , 파일명 정렬\n",
    "doc_df[doc_df[\"cluster_label\"]==2]"
   ]
  },
  {
   "cell_type": "code",
   "execution_count": 51,
   "metadata": {},
   "outputs": [
    {
     "data": {
      "text/plain": [
       "(5, 4604)"
      ]
     },
     "execution_count": 51,
     "metadata": {},
     "output_type": "execute_result"
    }
   ],
   "source": [
    "km_cluster.cluster_centers_.shape"
   ]
  },
  {
   "cell_type": "code",
   "execution_count": null,
   "metadata": {},
   "outputs": [],
   "source": []
  },
  {
   "cell_type": "code",
   "execution_count": null,
   "metadata": {},
   "outputs": [],
   "source": []
  },
  {
   "cell_type": "code",
   "execution_count": null,
   "metadata": {},
   "outputs": [],
   "source": []
  },
  {
   "cell_type": "code",
   "execution_count": null,
   "metadata": {},
   "outputs": [],
   "source": []
  },
  {
   "cell_type": "code",
   "execution_count": null,
   "metadata": {},
   "outputs": [],
   "source": []
  }
 ],
 "metadata": {
  "kernelspec": {
   "display_name": "ml_dev",
   "language": "python",
   "name": "python3"
  },
  "language_info": {
   "codemirror_mode": {
    "name": "ipython",
    "version": 3
   },
   "file_extension": ".py",
   "mimetype": "text/x-python",
   "name": "python",
   "nbconvert_exporter": "python",
   "pygments_lexer": "ipython3",
   "version": "3.10.13"
  }
 },
 "nbformat": 4,
 "nbformat_minor": 2
}
