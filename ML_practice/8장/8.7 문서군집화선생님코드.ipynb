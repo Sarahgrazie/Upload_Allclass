{
 "cells": [
  {
   "cell_type": "code",
   "execution_count": 1,
   "metadata": {},
   "outputs": [],
   "source": [
    "## 문서 군집화\n",
    "import numpy as np\n",
    "import pandas as pd\n",
    "import glob, os\n",
    "import warnings\n",
    "warnings.filterwarnings('ignore')\n",
    "\n",
    "path=r'C:\\education\\bigdata-project\\ml-dev\\src\\8장\\topics' # r : raw"
   ]
  },
  {
   "cell_type": "code",
   "execution_count": 3,
   "metadata": {},
   "outputs": [
    {
     "data": {
      "text/plain": [
       "['C:\\\\education\\\\bigdata-project\\\\ml-dev\\\\src\\\\8장\\\\topics\\\\accuracy_garmin_nuvi_255W_gps.txt.data',\n",
       " 'C:\\\\education\\\\bigdata-project\\\\ml-dev\\\\src\\\\8장\\\\topics\\\\bathroom_bestwestern_hotel_sfo.txt.data',\n",
       " 'C:\\\\education\\\\bigdata-project\\\\ml-dev\\\\src\\\\8장\\\\topics\\\\battery-life_amazon_kindle.txt.data',\n",
       " 'C:\\\\education\\\\bigdata-project\\\\ml-dev\\\\src\\\\8장\\\\topics\\\\battery-life_ipod_nano_8gb.txt.data',\n",
       " 'C:\\\\education\\\\bigdata-project\\\\ml-dev\\\\src\\\\8장\\\\topics\\\\battery-life_netbook_1005ha.txt.data',\n",
       " 'C:\\\\education\\\\bigdata-project\\\\ml-dev\\\\src\\\\8장\\\\topics\\\\buttons_amazon_kindle.txt.data',\n",
       " 'C:\\\\education\\\\bigdata-project\\\\ml-dev\\\\src\\\\8장\\\\topics\\\\comfort_honda_accord_2008.txt.data',\n",
       " 'C:\\\\education\\\\bigdata-project\\\\ml-dev\\\\src\\\\8장\\\\topics\\\\comfort_toyota_camry_2007.txt.data',\n",
       " 'C:\\\\education\\\\bigdata-project\\\\ml-dev\\\\src\\\\8장\\\\topics\\\\directions_garmin_nuvi_255W_gps.txt.data',\n",
       " 'C:\\\\education\\\\bigdata-project\\\\ml-dev\\\\src\\\\8장\\\\topics\\\\display_garmin_nuvi_255W_gps.txt.data',\n",
       " 'C:\\\\education\\\\bigdata-project\\\\ml-dev\\\\src\\\\8장\\\\topics\\\\eyesight-issues_amazon_kindle.txt.data',\n",
       " 'C:\\\\education\\\\bigdata-project\\\\ml-dev\\\\src\\\\8장\\\\topics\\\\features_windows7.txt.data',\n",
       " 'C:\\\\education\\\\bigdata-project\\\\ml-dev\\\\src\\\\8장\\\\topics\\\\fonts_amazon_kindle.txt.data',\n",
       " 'C:\\\\education\\\\bigdata-project\\\\ml-dev\\\\src\\\\8장\\\\topics\\\\food_holiday_inn_london.txt.data',\n",
       " 'C:\\\\education\\\\bigdata-project\\\\ml-dev\\\\src\\\\8장\\\\topics\\\\food_swissotel_chicago.txt.data',\n",
       " 'C:\\\\education\\\\bigdata-project\\\\ml-dev\\\\src\\\\8장\\\\topics\\\\free_bestwestern_hotel_sfo.txt.data',\n",
       " 'C:\\\\education\\\\bigdata-project\\\\ml-dev\\\\src\\\\8장\\\\topics\\\\gas_mileage_toyota_camry_2007.txt.data',\n",
       " 'C:\\\\education\\\\bigdata-project\\\\ml-dev\\\\src\\\\8장\\\\topics\\\\interior_honda_accord_2008.txt.data',\n",
       " 'C:\\\\education\\\\bigdata-project\\\\ml-dev\\\\src\\\\8장\\\\topics\\\\interior_toyota_camry_2007.txt.data',\n",
       " 'C:\\\\education\\\\bigdata-project\\\\ml-dev\\\\src\\\\8장\\\\topics\\\\keyboard_netbook_1005ha.txt.data',\n",
       " 'C:\\\\education\\\\bigdata-project\\\\ml-dev\\\\src\\\\8장\\\\topics\\\\location_bestwestern_hotel_sfo.txt.data',\n",
       " 'C:\\\\education\\\\bigdata-project\\\\ml-dev\\\\src\\\\8장\\\\topics\\\\location_holiday_inn_london.txt.data',\n",
       " 'C:\\\\education\\\\bigdata-project\\\\ml-dev\\\\src\\\\8장\\\\topics\\\\mileage_honda_accord_2008.txt.data',\n",
       " 'C:\\\\education\\\\bigdata-project\\\\ml-dev\\\\src\\\\8장\\\\topics\\\\navigation_amazon_kindle.txt.data',\n",
       " 'C:\\\\education\\\\bigdata-project\\\\ml-dev\\\\src\\\\8장\\\\topics\\\\parking_bestwestern_hotel_sfo.txt.data',\n",
       " 'C:\\\\education\\\\bigdata-project\\\\ml-dev\\\\src\\\\8장\\\\topics\\\\performance_honda_accord_2008.txt.data',\n",
       " 'C:\\\\education\\\\bigdata-project\\\\ml-dev\\\\src\\\\8장\\\\topics\\\\performance_netbook_1005ha.txt.data',\n",
       " 'C:\\\\education\\\\bigdata-project\\\\ml-dev\\\\src\\\\8장\\\\topics\\\\price_amazon_kindle.txt.data',\n",
       " 'C:\\\\education\\\\bigdata-project\\\\ml-dev\\\\src\\\\8장\\\\topics\\\\price_holiday_inn_london.txt.data',\n",
       " 'C:\\\\education\\\\bigdata-project\\\\ml-dev\\\\src\\\\8장\\\\topics\\\\quality_toyota_camry_2007.txt.data',\n",
       " 'C:\\\\education\\\\bigdata-project\\\\ml-dev\\\\src\\\\8장\\\\topics\\\\rooms_bestwestern_hotel_sfo.txt.data',\n",
       " 'C:\\\\education\\\\bigdata-project\\\\ml-dev\\\\src\\\\8장\\\\topics\\\\rooms_swissotel_chicago.txt.data',\n",
       " 'C:\\\\education\\\\bigdata-project\\\\ml-dev\\\\src\\\\8장\\\\topics\\\\room_holiday_inn_london.txt.data',\n",
       " 'C:\\\\education\\\\bigdata-project\\\\ml-dev\\\\src\\\\8장\\\\topics\\\\satellite_garmin_nuvi_255W_gps.txt.data',\n",
       " 'C:\\\\education\\\\bigdata-project\\\\ml-dev\\\\src\\\\8장\\\\topics\\\\screen_garmin_nuvi_255W_gps.txt.data',\n",
       " 'C:\\\\education\\\\bigdata-project\\\\ml-dev\\\\src\\\\8장\\\\topics\\\\screen_ipod_nano_8gb.txt.data',\n",
       " 'C:\\\\education\\\\bigdata-project\\\\ml-dev\\\\src\\\\8장\\\\topics\\\\screen_netbook_1005ha.txt.data',\n",
       " 'C:\\\\education\\\\bigdata-project\\\\ml-dev\\\\src\\\\8장\\\\topics\\\\seats_honda_accord_2008.txt.data',\n",
       " 'C:\\\\education\\\\bigdata-project\\\\ml-dev\\\\src\\\\8장\\\\topics\\\\service_bestwestern_hotel_sfo.txt.data',\n",
       " 'C:\\\\education\\\\bigdata-project\\\\ml-dev\\\\src\\\\8장\\\\topics\\\\service_holiday_inn_london.txt.data',\n",
       " 'C:\\\\education\\\\bigdata-project\\\\ml-dev\\\\src\\\\8장\\\\topics\\\\service_swissotel_hotel_chicago.txt.data',\n",
       " 'C:\\\\education\\\\bigdata-project\\\\ml-dev\\\\src\\\\8장\\\\topics\\\\size_asus_netbook_1005ha.txt.data',\n",
       " 'C:\\\\education\\\\bigdata-project\\\\ml-dev\\\\src\\\\8장\\\\topics\\\\sound_ipod_nano_8gb.txt.data',\n",
       " 'C:\\\\education\\\\bigdata-project\\\\ml-dev\\\\src\\\\8장\\\\topics\\\\speed_garmin_nuvi_255W_gps.txt.data',\n",
       " 'C:\\\\education\\\\bigdata-project\\\\ml-dev\\\\src\\\\8장\\\\topics\\\\speed_windows7.txt.data',\n",
       " 'C:\\\\education\\\\bigdata-project\\\\ml-dev\\\\src\\\\8장\\\\topics\\\\staff_bestwestern_hotel_sfo.txt.data',\n",
       " 'C:\\\\education\\\\bigdata-project\\\\ml-dev\\\\src\\\\8장\\\\topics\\\\staff_swissotel_chicago.txt.data',\n",
       " 'C:\\\\education\\\\bigdata-project\\\\ml-dev\\\\src\\\\8장\\\\topics\\\\transmission_toyota_camry_2007.txt.data',\n",
       " 'C:\\\\education\\\\bigdata-project\\\\ml-dev\\\\src\\\\8장\\\\topics\\\\updates_garmin_nuvi_255W_gps.txt.data',\n",
       " 'C:\\\\education\\\\bigdata-project\\\\ml-dev\\\\src\\\\8장\\\\topics\\\\video_ipod_nano_8gb.txt.data',\n",
       " 'C:\\\\education\\\\bigdata-project\\\\ml-dev\\\\src\\\\8장\\\\topics\\\\voice_garmin_nuvi_255W_gps.txt.data']"
      ]
     },
     "execution_count": 3,
     "metadata": {},
     "output_type": "execute_result"
    }
   ],
   "source": [
    "# topics 디렉토리 안에 있는 특정 파일 목록(리스트) \n",
    "all_files = glob.glob(os.path.join(path, '*.data'))\n",
    "all_files"
   ]
  },
  {
   "cell_type": "code",
   "execution_count": 7,
   "metadata": {},
   "outputs": [
    {
     "data": {
      "text/html": [
       "<div>\n",
       "<style scoped>\n",
       "    .dataframe tbody tr th:only-of-type {\n",
       "        vertical-align: middle;\n",
       "    }\n",
       "\n",
       "    .dataframe tbody tr th {\n",
       "        vertical-align: top;\n",
       "    }\n",
       "\n",
       "    .dataframe thead th {\n",
       "        text-align: right;\n",
       "    }\n",
       "</style>\n",
       "<table border=\"1\" class=\"dataframe\">\n",
       "  <thead>\n",
       "    <tr style=\"text-align: right;\">\n",
       "      <th></th>\n",
       "      <th>0</th>\n",
       "    </tr>\n",
       "  </thead>\n",
       "  <tbody>\n",
       "    <tr>\n",
       "      <th>0</th>\n",
       "      <td>, and is very, very accurate .</td>\n",
       "    </tr>\n",
       "    <tr>\n",
       "      <th>1</th>\n",
       "      <td>but for the most part, we find that the Garmi...</td>\n",
       "    </tr>\n",
       "    <tr>\n",
       "      <th>2</th>\n",
       "      <td>This function is not accurate if you don't le...</td>\n",
       "    </tr>\n",
       "    <tr>\n",
       "      <th>3</th>\n",
       "      <td>It provides immediate alternatives if the rou...</td>\n",
       "    </tr>\n",
       "    <tr>\n",
       "      <th>4</th>\n",
       "      <td>I've used other GPS units, as well as GPS bui...</td>\n",
       "    </tr>\n",
       "  </tbody>\n",
       "</table>\n",
       "</div>"
      ],
      "text/plain": [
       "                                                   0\n",
       "0                     , and is very, very accurate .\n",
       "1   but for the most part, we find that the Garmi...\n",
       "2   This function is not accurate if you don't le...\n",
       "3   It provides immediate alternatives if the rou...\n",
       "4   I've used other GPS units, as well as GPS bui..."
      ]
     },
     "execution_count": 7,
     "metadata": {},
     "output_type": "execute_result"
    }
   ],
   "source": [
    "# 파일명 저장 리스트(여러개저장)\n",
    "filenames = []\n",
    "# 리뷰를 저장하는 리스트 \n",
    "opinion_text = []\n",
    "\n",
    "# 첫번째 파일 읽기 => 처리 설명\n",
    "file_ = all_files[0] # 첫번째 파일명\n",
    "\n",
    "df=pd.read_table(file_, index_col=None, header=None, encoding='latin1')\n",
    "df.head()\n",
    "\n"
   ]
  },
  {
   "cell_type": "code",
   "execution_count": 8,
   "metadata": {},
   "outputs": [
    {
     "data": {
      "text/plain": [
       "['C:',\n",
       " 'education',\n",
       " 'bigdata-project',\n",
       " 'ml-dev',\n",
       " 'src',\n",
       " '8장',\n",
       " 'topics',\n",
       " 'accuracy_garmin_nuvi_255W_gps.txt.data']"
      ]
     },
     "execution_count": 8,
     "metadata": {},
     "output_type": "execute_result"
    }
   ],
   "source": [
    "# 절대경로로 주어진 파일명을 가공.\n",
    "# 맨 마지막 .data 확장자 제거\n",
    "# 'C:\\\\education\\\\bigdata-project\\\\ml-dev\\\\src\\\\8장\\\\topics\\\\accuracy_garmin_nuvi_255W_gps.txt.data'\n",
    "file_.split('\\\\')"
   ]
  },
  {
   "cell_type": "code",
   "execution_count": 9,
   "metadata": {},
   "outputs": [
    {
     "data": {
      "text/plain": [
       "'accuracy_garmin_nuvi_255W_gps.txt.data'"
      ]
     },
     "execution_count": 9,
     "metadata": {},
     "output_type": "execute_result"
    }
   ],
   "source": [
    "file_.split('\\\\')[-1]"
   ]
  },
  {
   "cell_type": "code",
   "execution_count": 10,
   "metadata": {},
   "outputs": [
    {
     "data": {
      "text/plain": [
       "['accuracy_garmin_nuvi_255W_gps', 'txt', 'data']"
      ]
     },
     "execution_count": 10,
     "metadata": {},
     "output_type": "execute_result"
    }
   ],
   "source": [
    "filename_ = file_.split('\\\\')[-1]\n",
    "filename_.split('.')"
   ]
  },
  {
   "cell_type": "code",
   "execution_count": 11,
   "metadata": {},
   "outputs": [
    {
     "data": {
      "text/plain": [
       "'accuracy_garmin_nuvi_255W_gps'"
      ]
     },
     "execution_count": 11,
     "metadata": {},
     "output_type": "execute_result"
    }
   ],
   "source": [
    "filename = filename_.split('.')[0]\n",
    "filename"
   ]
  },
  {
   "cell_type": "code",
   "execution_count": null,
   "metadata": {},
   "outputs": [],
   "source": [
    "filenames.append(filename) # 51개의 파일명(답) 저장\n",
    "opinion_text.append(df.to_string()) # 전체 파일의 리뷰 저장 "
   ]
  },
  {
   "cell_type": "code",
   "execution_count": 12,
   "metadata": {},
   "outputs": [
    {
     "data": {
      "text/html": [
       "<div>\n",
       "<style scoped>\n",
       "    .dataframe tbody tr th:only-of-type {\n",
       "        vertical-align: middle;\n",
       "    }\n",
       "\n",
       "    .dataframe tbody tr th {\n",
       "        vertical-align: top;\n",
       "    }\n",
       "\n",
       "    .dataframe thead th {\n",
       "        text-align: right;\n",
       "    }\n",
       "</style>\n",
       "<table border=\"1\" class=\"dataframe\">\n",
       "  <thead>\n",
       "    <tr style=\"text-align: right;\">\n",
       "      <th></th>\n",
       "      <th>0</th>\n",
       "    </tr>\n",
       "  </thead>\n",
       "  <tbody>\n",
       "    <tr>\n",
       "      <th>0</th>\n",
       "      <td>, and is very, very accurate .</td>\n",
       "    </tr>\n",
       "    <tr>\n",
       "      <th>1</th>\n",
       "      <td>but for the most part, we find that the Garmi...</td>\n",
       "    </tr>\n",
       "    <tr>\n",
       "      <th>2</th>\n",
       "      <td>This function is not accurate if you don't le...</td>\n",
       "    </tr>\n",
       "  </tbody>\n",
       "</table>\n",
       "</div>"
      ],
      "text/plain": [
       "                                                   0\n",
       "0                     , and is very, very accurate .\n",
       "1   but for the most part, we find that the Garmi...\n",
       "2   This function is not accurate if you don't le..."
      ]
     },
     "execution_count": 12,
     "metadata": {},
     "output_type": "execute_result"
    }
   ],
   "source": [
    "df.head(3)"
   ]
  },
  {
   "cell_type": "code",
   "execution_count": 17,
   "metadata": {},
   "outputs": [
    {
     "data": {
      "text/plain": [
       "\"                                                                                                                                                                                                                                                                                            0\\n0                                                                                                                                                                                                                                                              , and is very, very accurate .\\n1                                                                                                                                                                           but for the most part, we find that the Garmin software provides accurate directions, whereever we intend to go .\\n2                                                                                                              This function is not accurate if you don't leave it in battery mode say, when you stop at the Cracker Barrell for lunch and to play one of those trangle games with the tees .\\n3                                                                                                                                                                      It provides immediate alternatives if the route from the online map program was inaccurate or blocked by an obstacle .\\n4                                                                                                                                                                    I've used other GPS units, as well as GPS built into cars   and to this day NOTHING beats the accuracy of a Garmin GPS .\\n5                                                                                                                                                                                                                            It got me from point A to point B with 100% accuracy everytime .\\n6                                                                                                                                                                                                                        It has yet to disappoint, getting me everywhere with 100% accuracy .\\n7                                                                                                                                                                                                                                   0 out of 5 stars Honest, accurate review, , PLEASE READ !\\n8                                                                                                                                                                                                                  Aside from that, every destination I've thrown at has been 100% accurate .\\n9                                                                                                                                                                                       In closing, this is a fantastic GPS with some very nice features and is very accurate in directions .\\n10                                                                                                                                                                                            Plus, I've always heard that there are  quirks  with any GPS being accurate, having POIs, etc .\\n11                                                                                                                                                                                                                                          DESTINATION TIME, , This is pretty accurate too .\\n12                                                                                                                                                                                                                                                           But, it's always very accurate .\\n13                                                                                                                                                                                                               The map is pretty accurate and the Point of interest database also is good .\\n14                                                                                                                                                                                                                                           Most of the times, this info was very accurate .\\n15                                                                                                                                                                                                          I've even used it in the  pedestrian  mode, and it's amazing how accurate it is .\\n16                                                                                                                                                                                                                      ONLY  is only accurate when an ad says,  Top sirloin steak, ONLY $1 .\\n17                                                                                                                                                                                The most accurate review stated that these machines are adjunct to a good map and signs on the interstate .\\n18                                                                                                                                                                                                                                         The directions are highly accurate down to a  T  .\\n19                                                                                                                                   Depending on what you are using it for, it is a nice adjunct to a travel trip and the directions are accurate and usually the quickest, but not always .\\n20                                                                                                                                                                                                      The screen is easy to see, the voice tells you where you are and it's very accurate .\\n21                                                                                                                                                                                                                   It was accurate to the minute when it told me when I would arrive home .\\n22                                                                                                                                                                                                            0 out of 5 stars GPS Navigator doesn't navigate accurately on a straight road .\\n23                                                                                                                                                                                          I was familiar with the streets and only used the Nuvi to get an accurate arrival time estimate .\\n24                                                                                                                                                                                                                                 but after that it is very easy and quite accurate to use .\\n25                                                                                                                                                                                                                                                  The accuracy at this point is very good .\\n26                                                                                                                                              While the 255W routing seems generally accurate and logical, on my first use I discovered that it does have some errors in its internal map .\\n27                                                                                                                                                                                                    Bottom line is I wanted a unit that is accurate and had reliable satellite connection .\\n28                                                                                                                                                                                                                            I've used it around town and find it to be extremely accurate .\\n29                                                                                                                                                                          I found the maps to be inaccurate at first, but after I updated them from Garmin's website everything is golden .\\n30                                                                                                                                                                                                                                 A lot of my friends' addresses are inaccurate by any GPS .\\n31                                                                                                                                                                                        It loads quickly, have pretty accurate directions, and can recalculate quickly when I miss a turn .\\n32                                                                                                                            Because the accuracy is good to the street address level, it may not be able to guide you to the exact location if your destination is inside a shopping mall .\\n33                                                                                                                                                                                            I updated to the latest 2010 map soon after I received the unit, so the map is accurate to me .\\n34                                                                                                                                                                                                                   I was blown away at the accuracy and routing capability this thing had .\\n35   I used it the day I bought it,   and then this morning, and as soon as it comes on it is  ready to navigate  The only downfall of this product, and the only reason I did not give it 5 stars is the fact that the speed limit it displays for the road you are on isn't 100% accurate .\\n36                                                                                                                                                                                                        If your looking for a nice, accurate GPS for not so much money, got with this one .\\n37                                                                                                                                                                                                                 0 out of 5 stars Inexpensive, accurate, plenty of features, August 6, 2009\\n38                                                                                                     The only glitch I have found so far is that the speed limits are not 100% accurate, although the GPS, amazingly, is able to very accurately tell you how fast your vehicle is moving .\\n39                                                                I was a little disappointed in the inaccuracy of the posted speed limit, as I'm guilty of not paying close enough attention to those signs, especially w  interstate speed traps that are constantly changing up and down .\\n40                                                                                                                                                                                                    The closest one that gives the most accurate route that I usually take is the Navigon .\\n41                                                                                                                          After 2 weeks, it has yet to make a mistake, and is always completely accurate ,  even to the point of telling me which side of the street my destination is on .\\n42                                                                                                                                                                                                    It has worked well for local driving giving accurate directions for roads and streets .\\n43                                                                                                                                                                                                  The estimated time to arrival does not seem to calculate the travelling time accurately .\\n44                                                                                                                          Accuracy is as good as any other unit, they all sometimes tell you you have arrived when you haven't, or continue to tell you to turn when you're already there .\\n45                                                                                                                                                                                                                                                       Accuracy is determined by the maps .\\n46                                                                                                                                                                                                                               Less traveled rural roads will not be accurate on any unit .\\n47                                                                                                                                                                                                                                                           Accuracy is within a few yards .\\n48                                                                                                                          What the 255w does best is find a street address, business, point of interest, hospital or airport and give you turn, by, turn directions with amazing accuracy .\\n49                                                                                                                                                                                    The Garmin is loaded with very accurate maps that generally know the roads in even the remotest areas .\\n50                                                        I'm really glad I bought it though, and like the easy to read graphics, the voice used to tell you the name of the street you are to turn on, the uncannily accurate estimates of mileage and time of arrival at your destination .\\n51                                                                                                                                                       My new Garmin 255w had very Easy Set Up, Accurate Directions to locations, User Friendly Unit to anyone in my vehicle who tried it .\\n52                                                                                                                                 I had a GPS 10, years ago when I owned a boat that was difficult to use and with very poor accuracy so I had assumed that the road GPS wasn't any better .\\n53                                                                                                                                                                                            Practiced visiting places I already knew to see how accurate the directions and maps would be .\\n54                                                                                                                                                                                                                            Easy to use, excellent accuracy, nice and intuitive interface .\\n55                                                                                                                                                                                                                            The directions provided have all been quite accurate thus far .\\n56                                                                                                                                                                                                             ,  Very Accurate but with one small glitch I found ,  I'll explain in the CONS\\n57                                                                                                                                                                                                                      This is a great GPS, it is so easy to use and it is always accurate .\\n58                                                                                                                                        Very easy to operate and pretty accurate as well, only led me astray once and that was in northern Maine where roads are few and paved ones fewer .\\n59                                                                                                                                                                                                                                      Easy to use and amazed at how accurate this item is .\\n60                                                                                                                                                                                                                                        To date it's been a very easy to use and accurate .\\n61                                                                                                                                                                                                                                         Mounted really easily and has been very accurate .\\n62                                                                                                                                                                                                                                                              seems to be rather accurate .\\n63                                                                                                                                                                                                        It was accurate on determing original directions and recalculating when necessary .\\n64                                                                                                                                                                                                                                                          Highly accurate, POIs are great .\\n65                                                                                                                               I can't believe how accurate and detailed the information estimated time of arrival,speed limits along the way,and detailed map of my route, to name a few .\\n66                                                                                                                                                                                                                Speed of calculation, accuracy, and simplicity of operation are top notch .\""
      ]
     },
     "execution_count": 17,
     "metadata": {},
     "output_type": "execute_result"
    }
   ],
   "source": [
    "df.to_string()"
   ]
  },
  {
   "cell_type": "code",
   "execution_count": 18,
   "metadata": {},
   "outputs": [
    {
     "data": {
      "text/plain": [
       "['accuracy_garmin_nuvi_255W_gps',\n",
       " 'bathroom_bestwestern_hotel_sfo',\n",
       " 'battery-life_amazon_kindle',\n",
       " 'battery-life_ipod_nano_8gb',\n",
       " 'battery-life_netbook_1005ha',\n",
       " 'buttons_amazon_kindle',\n",
       " 'comfort_honda_accord_2008',\n",
       " 'comfort_toyota_camry_2007',\n",
       " 'directions_garmin_nuvi_255W_gps',\n",
       " 'display_garmin_nuvi_255W_gps',\n",
       " 'eyesight-issues_amazon_kindle',\n",
       " 'features_windows7',\n",
       " 'fonts_amazon_kindle',\n",
       " 'food_holiday_inn_london',\n",
       " 'food_swissotel_chicago',\n",
       " 'free_bestwestern_hotel_sfo',\n",
       " 'gas_mileage_toyota_camry_2007',\n",
       " 'interior_honda_accord_2008',\n",
       " 'interior_toyota_camry_2007',\n",
       " 'keyboard_netbook_1005ha',\n",
       " 'location_bestwestern_hotel_sfo',\n",
       " 'location_holiday_inn_london',\n",
       " 'mileage_honda_accord_2008',\n",
       " 'navigation_amazon_kindle',\n",
       " 'parking_bestwestern_hotel_sfo',\n",
       " 'performance_honda_accord_2008',\n",
       " 'performance_netbook_1005ha',\n",
       " 'price_amazon_kindle',\n",
       " 'price_holiday_inn_london',\n",
       " 'quality_toyota_camry_2007',\n",
       " 'rooms_bestwestern_hotel_sfo',\n",
       " 'rooms_swissotel_chicago',\n",
       " 'room_holiday_inn_london',\n",
       " 'satellite_garmin_nuvi_255W_gps',\n",
       " 'screen_garmin_nuvi_255W_gps',\n",
       " 'screen_ipod_nano_8gb',\n",
       " 'screen_netbook_1005ha',\n",
       " 'seats_honda_accord_2008',\n",
       " 'service_bestwestern_hotel_sfo',\n",
       " 'service_holiday_inn_london',\n",
       " 'service_swissotel_hotel_chicago',\n",
       " 'size_asus_netbook_1005ha',\n",
       " 'sound_ipod_nano_8gb',\n",
       " 'speed_garmin_nuvi_255W_gps',\n",
       " 'speed_windows7',\n",
       " 'staff_bestwestern_hotel_sfo',\n",
       " 'staff_swissotel_chicago',\n",
       " 'transmission_toyota_camry_2007',\n",
       " 'updates_garmin_nuvi_255W_gps',\n",
       " 'video_ipod_nano_8gb',\n",
       " 'voice_garmin_nuvi_255W_gps']"
      ]
     },
     "execution_count": 18,
     "metadata": {},
     "output_type": "execute_result"
    }
   ],
   "source": [
    "# 51개 파일 반복 처리\n",
    "for file_ in all_files:\n",
    "    df = pd.read_table(file_, index_col=None, header=None, encoding='latin1')\n",
    "    filename_=file_.split('\\\\')[-1]\n",
    "    filename=filename_.split('.')[0]\n",
    "    \n",
    "    filenames.append(filename)\n",
    "    opinion_text.append(df.to_string())\n",
    "\n",
    "filenames"
   ]
  },
  {
   "cell_type": "code",
   "execution_count": 20,
   "metadata": {},
   "outputs": [],
   "source": [
    "pd.set_option('display.max_colwidth',700)"
   ]
  },
  {
   "cell_type": "code",
   "execution_count": 21,
   "metadata": {},
   "outputs": [
    {
     "data": {
      "text/html": [
       "<div>\n",
       "<style scoped>\n",
       "    .dataframe tbody tr th:only-of-type {\n",
       "        vertical-align: middle;\n",
       "    }\n",
       "\n",
       "    .dataframe tbody tr th {\n",
       "        vertical-align: top;\n",
       "    }\n",
       "\n",
       "    .dataframe thead th {\n",
       "        text-align: right;\n",
       "    }\n",
       "</style>\n",
       "<table border=\"1\" class=\"dataframe\">\n",
       "  <thead>\n",
       "    <tr style=\"text-align: right;\">\n",
       "      <th></th>\n",
       "      <th>filename</th>\n",
       "      <th>opinion_text</th>\n",
       "    </tr>\n",
       "  </thead>\n",
       "  <tbody>\n",
       "    <tr>\n",
       "      <th>0</th>\n",
       "      <td>accuracy_garmin_nuvi_255W_gps</td>\n",
       "      <td>0\\n0                                                                                                                                                                                                                                                              , and is very, very accurate .\\n1                                                                                                                         ...</td>\n",
       "    </tr>\n",
       "    <tr>\n",
       "      <th>1</th>\n",
       "      <td>bathroom_bestwestern_hotel_sfo</td>\n",
       "      <td>0\\n0                                                                                                                                                                                                                                             The room was not overly big, but clean and very comfortable beds, a great shower and very clean bathrooms .\\n1 ...</td>\n",
       "    </tr>\n",
       "    <tr>\n",
       "      <th>2</th>\n",
       "      <td>battery-life_amazon_kindle</td>\n",
       "      <td>0\\n0                                                                                                                                                                                                            After I plugged it in to my USB hub on my computer to charge the battery the charging cord design is very clever !\\n1                                                     ...</td>\n",
       "    </tr>\n",
       "  </tbody>\n",
       "</table>\n",
       "</div>"
      ],
      "text/plain": [
       "                         filename  \\\n",
       "0   accuracy_garmin_nuvi_255W_gps   \n",
       "1  bathroom_bestwestern_hotel_sfo   \n",
       "2      battery-life_amazon_kindle   \n",
       "\n",
       "                                                                                                                                                                                                                                                                                                                                                                                                                                                                                                                                                                                                                                                                                                                  opinion_text  \n",
       "0                                                                                                                                                                                                                                                                                              0\\n0                                                                                                                                                                                                                                                              , and is very, very accurate .\\n1                                                                                                                         ...  \n",
       "1                                                                                                                                                                                                                                                                                                                                                          0\\n0                                                                                                                                                                                                                                             The room was not overly big, but clean and very comfortable beds, a great shower and very clean bathrooms .\\n1 ...  \n",
       "2                                                                                                                                                                                                                                                                                                                                0\\n0                                                                                                                                                                                                            After I plugged it in to my USB hub on my computer to charge the battery the charging cord design is very clever !\\n1                                                     ...  "
      ]
     },
     "execution_count": 21,
     "metadata": {},
     "output_type": "execute_result"
    }
   ],
   "source": [
    "# 데이터프레임 생성\n",
    "doc_df = pd.DataFrame({\n",
    "      'filename':filenames\n",
    "    , 'opinion_text' : opinion_text\n",
    "})\n",
    "doc_df.head(3)"
   ]
  },
  {
   "cell_type": "code",
   "execution_count": 22,
   "metadata": {},
   "outputs": [],
   "source": [
    "# 벡터화 => TfidfVectorizer \n",
    "# 토큰화 => 벡터화\n",
    "from sklearn.feature_extraction.text import TfidfVectorizer"
   ]
  },
  {
   "cell_type": "code",
   "execution_count": 23,
   "metadata": {},
   "outputs": [
    {
     "data": {
      "text/plain": [
       "'!\"#$%&\\'()*+,-./:;<=>?@[\\\\]^_`{|}~'"
      ]
     },
     "execution_count": 23,
     "metadata": {},
     "output_type": "execute_result"
    }
   ],
   "source": [
    "import string\n",
    "string.punctuation"
   ]
  },
  {
   "cell_type": "code",
   "execution_count": 27,
   "metadata": {},
   "outputs": [
    {
     "data": {
      "text/plain": [
       "{33: None,\n",
       " 34: None,\n",
       " 35: None,\n",
       " 36: None,\n",
       " 37: None,\n",
       " 38: None,\n",
       " 39: None,\n",
       " 40: None,\n",
       " 41: None,\n",
       " 42: None,\n",
       " 43: None,\n",
       " 44: None,\n",
       " 45: None,\n",
       " 46: None,\n",
       " 47: None,\n",
       " 58: None,\n",
       " 59: None,\n",
       " 60: None,\n",
       " 61: None,\n",
       " 62: None,\n",
       " 63: None,\n",
       " 64: None,\n",
       " 91: None,\n",
       " 92: None,\n",
       " 93: None,\n",
       " 94: None,\n",
       " 95: None,\n",
       " 96: None,\n",
       " 123: None,\n",
       " 124: None,\n",
       " 125: None,\n",
       " 126: None}"
      ]
     },
     "execution_count": 27,
     "metadata": {},
     "output_type": "execute_result"
    }
   ],
   "source": [
    "# ord('a')=> 97\n",
    "dict((ord(punct), None) for punct in string.punctuation)"
   ]
  },
  {
   "cell_type": "code",
   "execution_count": 28,
   "metadata": {},
   "outputs": [],
   "source": [
    "from nltk.stem import WordNetLemmatizer\n",
    "import nltk\n",
    "import string\n",
    "\n",
    "remove_punct_dict = dict((ord(punct), None) for punct in string.punctuation)\n",
    "lemmar = WordNetLemmatizer() # 어근 추출\n",
    "\n",
    "# 입력으로 들어온 token단어들에 대해서 lemmatization 어근 변환. \n",
    "def LemTokens(tokens):\n",
    "    return [lemmar.lemmatize(token) for token in tokens] # 어근 추출하고 리스트 반환\n",
    "\n",
    "# TfidfVectorizer 객체 생성 시 tokenizer인자로 해당 함수를 설정하여 lemmatization 적용\n",
    "# 입력으로 문장을 받아서 stop words 제거-> 소문자 변환 -> 단어 토큰화 -> lemmatization 어근 변환. \n",
    "def LemNormalize(text):\n",
    "    return LemTokens(nltk.word_tokenize(text.lower().translate(remove_punct_dict)))"
   ]
  },
  {
   "cell_type": "code",
   "execution_count": 29,
   "metadata": {},
   "outputs": [],
   "source": [
    "tfidf_vect = TfidfVectorizer(\n",
    "      tokenizer=LemNormalize # tokenizer=function\n",
    "    , stop_words='english'\n",
    "    , ngram_range=(1,2)\n",
    "    , min_df=0.05\n",
    "    , max_df=0.85\n",
    ")"
   ]
  },
  {
   "cell_type": "code",
   "execution_count": 30,
   "metadata": {},
   "outputs": [
    {
     "data": {
      "text/plain": [
       "<51x4604 sparse matrix of type '<class 'numpy.float64'>'\n",
       "\twith 30104 stored elements in Compressed Sparse Row format>"
      ]
     },
     "execution_count": 30,
     "metadata": {},
     "output_type": "execute_result"
    }
   ],
   "source": [
    "feature_vect = tfidf_vect.fit_transform(doc_df['opinion_text'])\n",
    "feature_vect"
   ]
  },
  {
   "cell_type": "code",
   "execution_count": 38,
   "metadata": {},
   "outputs": [],
   "source": [
    "from sklearn.cluster import KMeans\n",
    "km_cluster = KMeans(n_clusters=3, max_iter=10000, random_state=0)\n",
    "km_cluster.fit(feature_vect)\n",
    "cluster_labels = km_cluster.labels_\n",
    "cluster_centers = km_cluster.cluster_centers_"
   ]
  },
  {
   "cell_type": "code",
   "execution_count": 39,
   "metadata": {},
   "outputs": [
    {
     "data": {
      "text/html": [
       "<div>\n",
       "<style scoped>\n",
       "    .dataframe tbody tr th:only-of-type {\n",
       "        vertical-align: middle;\n",
       "    }\n",
       "\n",
       "    .dataframe tbody tr th {\n",
       "        vertical-align: top;\n",
       "    }\n",
       "\n",
       "    .dataframe thead th {\n",
       "        text-align: right;\n",
       "    }\n",
       "</style>\n",
       "<table border=\"1\" class=\"dataframe\">\n",
       "  <thead>\n",
       "    <tr style=\"text-align: right;\">\n",
       "      <th></th>\n",
       "      <th>filename</th>\n",
       "      <th>opinion_text</th>\n",
       "      <th>cluster_labels</th>\n",
       "    </tr>\n",
       "  </thead>\n",
       "  <tbody>\n",
       "    <tr>\n",
       "      <th>0</th>\n",
       "      <td>accuracy_garmin_nuvi_255W_gps</td>\n",
       "      <td>0\\n0                                                                                                                                                                                                                                                              , and is very, very accurate .\\n1                                                                                                                         ...</td>\n",
       "      <td>2</td>\n",
       "    </tr>\n",
       "    <tr>\n",
       "      <th>1</th>\n",
       "      <td>bathroom_bestwestern_hotel_sfo</td>\n",
       "      <td>0\\n0                                                                                                                                                                                                                                             The room was not overly big, but clean and very comfortable beds, a great shower and very clean bathrooms .\\n1 ...</td>\n",
       "      <td>0</td>\n",
       "    </tr>\n",
       "    <tr>\n",
       "      <th>2</th>\n",
       "      <td>battery-life_amazon_kindle</td>\n",
       "      <td>0\\n0                                                                                                                                                                                                            After I plugged it in to my USB hub on my computer to charge the battery the charging cord design is very clever !\\n1                                                     ...</td>\n",
       "      <td>2</td>\n",
       "    </tr>\n",
       "    <tr>\n",
       "      <th>3</th>\n",
       "      <td>battery-life_ipod_nano_8gb</td>\n",
       "      <td>0\\n0                                                                                                                                                                                                                                                                                              short battery life  I moved up from an 8gb .\\n1                             ...</td>\n",
       "      <td>2</td>\n",
       "    </tr>\n",
       "    <tr>\n",
       "      <th>4</th>\n",
       "      <td>battery-life_netbook_1005ha</td>\n",
       "      <td>0\\n0                                                                                                                                                                                                                                                                                                               6GHz 533FSB ...</td>\n",
       "      <td>2</td>\n",
       "    </tr>\n",
       "  </tbody>\n",
       "</table>\n",
       "</div>"
      ],
      "text/plain": [
       "                         filename  \\\n",
       "0   accuracy_garmin_nuvi_255W_gps   \n",
       "1  bathroom_bestwestern_hotel_sfo   \n",
       "2      battery-life_amazon_kindle   \n",
       "3      battery-life_ipod_nano_8gb   \n",
       "4     battery-life_netbook_1005ha   \n",
       "\n",
       "                                                                                                                                                                                                                                                                                                                                                                                                                                                                                                                                                                                                                                                                                                                  opinion_text  \\\n",
       "0                                                                                                                                                                                                                                                                                              0\\n0                                                                                                                                                                                                                                                              , and is very, very accurate .\\n1                                                                                                                         ...   \n",
       "1                                                                                                                                                                                                                                                                                                                                                          0\\n0                                                                                                                                                                                                                                             The room was not overly big, but clean and very comfortable beds, a great shower and very clean bathrooms .\\n1 ...   \n",
       "2                                                                                                                                                                                                                                                                                                                                0\\n0                                                                                                                                                                                                            After I plugged it in to my USB hub on my computer to charge the battery the charging cord design is very clever !\\n1                                                     ...   \n",
       "3                                                                                                                                                                                                                                                                                                                                            0\\n0                                                                                                                                                                                                                                                                                              short battery life  I moved up from an 8gb .\\n1                             ...   \n",
       "4                                                                                                                                                                                                                                                                                                                                                                                           0\\n0                                                                                                                                                                                                                                                                                                               6GHz 533FSB ...   \n",
       "\n",
       "   cluster_labels  \n",
       "0               2  \n",
       "1               0  \n",
       "2               2  \n",
       "3               2  \n",
       "4               2  "
      ]
     },
     "execution_count": 39,
     "metadata": {},
     "output_type": "execute_result"
    }
   ],
   "source": [
    "doc_df['cluster_labels']=cluster_labels\n",
    "doc_df.head()"
   ]
  },
  {
   "cell_type": "code",
   "execution_count": 43,
   "metadata": {},
   "outputs": [
    {
     "data": {
      "text/html": [
       "<div>\n",
       "<style scoped>\n",
       "    .dataframe tbody tr th:only-of-type {\n",
       "        vertical-align: middle;\n",
       "    }\n",
       "\n",
       "    .dataframe tbody tr th {\n",
       "        vertical-align: top;\n",
       "    }\n",
       "\n",
       "    .dataframe thead th {\n",
       "        text-align: right;\n",
       "    }\n",
       "</style>\n",
       "<table border=\"1\" class=\"dataframe\">\n",
       "  <thead>\n",
       "    <tr style=\"text-align: right;\">\n",
       "      <th></th>\n",
       "      <th>filename</th>\n",
       "      <th>opinion_text</th>\n",
       "      <th>cluster_labels</th>\n",
       "    </tr>\n",
       "  </thead>\n",
       "  <tbody>\n",
       "    <tr>\n",
       "      <th>0</th>\n",
       "      <td>accuracy_garmin_nuvi_255W_gps</td>\n",
       "      <td>0\\n0                                                                                                                                                                                                                                                              , and is very, very accurate .\\n1                                                                                                                         ...</td>\n",
       "      <td>2</td>\n",
       "    </tr>\n",
       "    <tr>\n",
       "      <th>2</th>\n",
       "      <td>battery-life_amazon_kindle</td>\n",
       "      <td>0\\n0                                                                                                                                                                                                            After I plugged it in to my USB hub on my computer to charge the battery the charging cord design is very clever !\\n1                                                     ...</td>\n",
       "      <td>2</td>\n",
       "    </tr>\n",
       "    <tr>\n",
       "      <th>3</th>\n",
       "      <td>battery-life_ipod_nano_8gb</td>\n",
       "      <td>0\\n0                                                                                                                                                                                                                                                                                              short battery life  I moved up from an 8gb .\\n1                             ...</td>\n",
       "      <td>2</td>\n",
       "    </tr>\n",
       "    <tr>\n",
       "      <th>4</th>\n",
       "      <td>battery-life_netbook_1005ha</td>\n",
       "      <td>0\\n0                                                                                                                                                                                                                                                                                                               6GHz 533FSB ...</td>\n",
       "      <td>2</td>\n",
       "    </tr>\n",
       "    <tr>\n",
       "      <th>5</th>\n",
       "      <td>buttons_amazon_kindle</td>\n",
       "      <td>0\\n0                                                                                                                                          I thought it would be fitting to christen my Kindle with the Stephen King novella UR, so went to the Amazon site on my computer and clicked on the button to buy it .\\n1                                                                                   ...</td>\n",
       "      <td>2</td>\n",
       "    </tr>\n",
       "    <tr>\n",
       "      <th>8</th>\n",
       "      <td>directions_garmin_nuvi_255W_gps</td>\n",
       "      <td>0\\n0                                                                                                                                                                                                                                                             You also get upscale features like spoken directions including street names and program...</td>\n",
       "      <td>2</td>\n",
       "    </tr>\n",
       "    <tr>\n",
       "      <th>9</th>\n",
       "      <td>display_garmin_nuvi_255W_gps</td>\n",
       "      <td>0\\n0                                                                                                                                                                                                                                                    3 quot  widescreen display was a bonus .\\n1                                                                                                                         ...</td>\n",
       "      <td>2</td>\n",
       "    </tr>\n",
       "    <tr>\n",
       "      <th>10</th>\n",
       "      <td>eyesight-issues_amazon_kindle</td>\n",
       "      <td>0\\n0                                                                                                                                                                                         It feels as easy to read as the K1 but doesn't seem any crisper to my eyes   .\\n1                                                                                                                                                            the whi...</td>\n",
       "      <td>2</td>\n",
       "    </tr>\n",
       "    <tr>\n",
       "      <th>11</th>\n",
       "      <td>features_windows7</td>\n",
       "      <td>0\\n0                                                                                                                                                                          I had to uninstall anti, virus and selected other programs, some of which did not have listings in the  Programs and Features  Control Panel section .\\n1                                                 ...</td>\n",
       "      <td>2</td>\n",
       "    </tr>\n",
       "    <tr>\n",
       "      <th>12</th>\n",
       "      <td>fonts_amazon_kindle</td>\n",
       "      <td>0\\n0                                                                                                                                                                                                                                                                                                                  Being able to change the font si...</td>\n",
       "      <td>2</td>\n",
       "    </tr>\n",
       "    <tr>\n",
       "      <th>19</th>\n",
       "      <td>keyboard_netbook_1005ha</td>\n",
       "      <td>0\\n0                                                                                                                                                                               ,  I think the new keyboard rivals the great hp mini keyboards .\\n1                                                                                                                                 Since the battery life difference is minimum, the only reason to upgrade would be ...</td>\n",
       "      <td>2</td>\n",
       "    </tr>\n",
       "    <tr>\n",
       "      <th>23</th>\n",
       "      <td>navigation_amazon_kindle</td>\n",
       "      <td>0\\n0                                                                                                                                                                                                                                                                 ...</td>\n",
       "      <td>2</td>\n",
       "    </tr>\n",
       "    <tr>\n",
       "      <th>26</th>\n",
       "      <td>performance_netbook_1005ha</td>\n",
       "      <td>0\\n0                                                                                                         The Eee Super Hybrid Engine utility lets users overclock or underclock their Eee PC's to boost performance or provide better battery life depending on their immediate requirements .\\n1                                                                                                                     ...</td>\n",
       "      <td>2</td>\n",
       "    </tr>\n",
       "    <tr>\n",
       "      <th>27</th>\n",
       "      <td>price_amazon_kindle</td>\n",
       "      <td>0\\n0                                                                                                                                                                                                                              If a case was included, as with the Kindle 1, that would have been reflected in a higher price .\\n1                                                     ...</td>\n",
       "      <td>2</td>\n",
       "    </tr>\n",
       "    <tr>\n",
       "      <th>33</th>\n",
       "      <td>satellite_garmin_nuvi_255W_gps</td>\n",
       "      <td>0\\n0                                                                                                                                                                                                                                                                                       It's fast to acquire satellites .\\n1    If you've ever had a  Brand X  GPS take you on some strange r...</td>\n",
       "      <td>2</td>\n",
       "    </tr>\n",
       "    <tr>\n",
       "      <th>34</th>\n",
       "      <td>screen_garmin_nuvi_255W_gps</td>\n",
       "      <td>0\\n0                                                                                                                                                                                                   It is easy to read and when touching the screen it works great !\\n1                                                                                                                                                                    and zoo...</td>\n",
       "      <td>2</td>\n",
       "    </tr>\n",
       "    <tr>\n",
       "      <th>35</th>\n",
       "      <td>screen_ipod_nano_8gb</td>\n",
       "      <td>0\\n0                                                                                                                                                                                                                                                                                         As always, the video screen is sharp and bright .\\n1                             ...</td>\n",
       "      <td>2</td>\n",
       "    </tr>\n",
       "    <tr>\n",
       "      <th>36</th>\n",
       "      <td>screen_netbook_1005ha</td>\n",
       "      <td>0\\n0                                                                                                                                                                                                                                                                       Keep in mind that once you get in a room full of lig...</td>\n",
       "      <td>2</td>\n",
       "    </tr>\n",
       "    <tr>\n",
       "      <th>41</th>\n",
       "      <td>size_asus_netbook_1005ha</td>\n",
       "      <td>0\\n0                                                                                                                                                                                                     A few other things I'd like to point out is that you must push the micro, sized right angle end of the ac adapter until it snaps ...</td>\n",
       "      <td>2</td>\n",
       "    </tr>\n",
       "    <tr>\n",
       "      <th>42</th>\n",
       "      <td>sound_ipod_nano_8gb</td>\n",
       "      <td>0\\n0     headphone jack i got a clear case for it and it  i got a clear case for it and it like prvents me from being able to put the jack all the way in so the sound can b messsed up or i can get it in there and its playing well them go to move or something and it slides out .\\n1                                                                                                                                             ...</td>\n",
       "      <td>2</td>\n",
       "    </tr>\n",
       "    <tr>\n",
       "      <th>43</th>\n",
       "      <td>speed_garmin_nuvi_255W_gps</td>\n",
       "      <td>0\\n0                                                                                                                                                         Another feature on the 255w is a display of the posted speed limit on the road which you are currently on right above your current displayed speed .\\n1                                                                                       ...</td>\n",
       "      <td>2</td>\n",
       "    </tr>\n",
       "    <tr>\n",
       "      <th>44</th>\n",
       "      <td>speed_windows7</td>\n",
       "      <td>0\\n0                                                                                                                     Windows 7 is quite simply faster, more stable, boots faster, goes to sleep faster, comes back from sleep faster, manages your files better and on top of that it's beautiful to look at and easy to use .\\n1                                                     ...</td>\n",
       "      <td>2</td>\n",
       "    </tr>\n",
       "    <tr>\n",
       "      <th>48</th>\n",
       "      <td>updates_garmin_nuvi_255W_gps</td>\n",
       "      <td>0\\n0                                                                          Another thing to consider was that I paid $50 less for the 750 and it came with the FM transmitter cable and a USB cord to connect it to your computer for updates and downloads .\\n1                                                                                                                                                                                         ...</td>\n",
       "      <td>2</td>\n",
       "    </tr>\n",
       "    <tr>\n",
       "      <th>49</th>\n",
       "      <td>video_ipod_nano_8gb</td>\n",
       "      <td>0\\n0                                                                                                                                                                                                                                                                        I bought the 8, gig Ipod Nano that has the built, in video camera .\\n1                           ...</td>\n",
       "      <td>2</td>\n",
       "    </tr>\n",
       "    <tr>\n",
       "      <th>50</th>\n",
       "      <td>voice_garmin_nuvi_255W_gps</td>\n",
       "      <td>0\\n0                                                                                                                                                                                                The voice prompts and maps are wonderful especially when driving after dark .\\n1                                                                                                                                                       ...</td>\n",
       "      <td>2</td>\n",
       "    </tr>\n",
       "  </tbody>\n",
       "</table>\n",
       "</div>"
      ],
      "text/plain": [
       "                           filename  \\\n",
       "0     accuracy_garmin_nuvi_255W_gps   \n",
       "2        battery-life_amazon_kindle   \n",
       "3        battery-life_ipod_nano_8gb   \n",
       "4       battery-life_netbook_1005ha   \n",
       "5             buttons_amazon_kindle   \n",
       "8   directions_garmin_nuvi_255W_gps   \n",
       "9      display_garmin_nuvi_255W_gps   \n",
       "10    eyesight-issues_amazon_kindle   \n",
       "11                features_windows7   \n",
       "12              fonts_amazon_kindle   \n",
       "19          keyboard_netbook_1005ha   \n",
       "23         navigation_amazon_kindle   \n",
       "26       performance_netbook_1005ha   \n",
       "27              price_amazon_kindle   \n",
       "33   satellite_garmin_nuvi_255W_gps   \n",
       "34      screen_garmin_nuvi_255W_gps   \n",
       "35             screen_ipod_nano_8gb   \n",
       "36            screen_netbook_1005ha   \n",
       "41         size_asus_netbook_1005ha   \n",
       "42              sound_ipod_nano_8gb   \n",
       "43       speed_garmin_nuvi_255W_gps   \n",
       "44                   speed_windows7   \n",
       "48     updates_garmin_nuvi_255W_gps   \n",
       "49              video_ipod_nano_8gb   \n",
       "50       voice_garmin_nuvi_255W_gps   \n",
       "\n",
       "                                                                                                                                                                                                                                                                                                                                                                                                                                                                                                                                                                                                                                                                                                                   opinion_text  \\\n",
       "0                                                                                                                                                                                                                                                                                               0\\n0                                                                                                                                                                                                                                                              , and is very, very accurate .\\n1                                                                                                                         ...   \n",
       "2                                                                                                                                                                                                                                                                                                                                 0\\n0                                                                                                                                                                                                            After I plugged it in to my USB hub on my computer to charge the battery the charging cord design is very clever !\\n1                                                     ...   \n",
       "3                                                                                                                                                                                                                                                                                                                                             0\\n0                                                                                                                                                                                                                                                                                              short battery life  I moved up from an 8gb .\\n1                             ...   \n",
       "4                                                                                                                                                                                                                                                                                                                                                                                            0\\n0                                                                                                                                                                                                                                                                                                               6GHz 533FSB ...   \n",
       "5                                                                                                                                                                                                                                                                                                                  0\\n0                                                                                                                                          I thought it would be fitting to christen my Kindle with the Stephen King novella UR, so went to the Amazon site on my computer and clicked on the button to buy it .\\n1                                                                                   ...   \n",
       "8                                                                                                                                                                                                                                                                                                                                                                   0\\n0                                                                                                                                                                                                                                                             You also get upscale features like spoken directions including street names and program...   \n",
       "9                                                                                                                                                                                                                                                                                               0\\n0                                                                                                                                                                                                                                                    3 quot  widescreen display was a bonus .\\n1                                                                                                                         ...   \n",
       "10                                                                                                                                                                                                                                                                         0\\n0                                                                                                                                                                                         It feels as easy to read as the K1 but doesn't seem any crisper to my eyes   .\\n1                                                                                                                                                            the whi...   \n",
       "11                                                                                                                                                                                                                                                                                                                                  0\\n0                                                                                                                                                                          I had to uninstall anti, virus and selected other programs, some of which did not have listings in the  Programs and Features  Control Panel section .\\n1                                                 ...   \n",
       "12                                                                                                                                                                                                                                                                                                                                                                    0\\n0                                                                                                                                                                                                                                                                                                                  Being able to change the font si...   \n",
       "19                                                                                                                                                                                                                                                 0\\n0                                                                                                                                                                               ,  I think the new keyboard rivals the great hp mini keyboards .\\n1                                                                                                                                 Since the battery life difference is minimum, the only reason to upgrade would be ...   \n",
       "23                                                                                                                                                                                                                                                                                                                                                                                                                                                     0\\n0                                                                                                                                                                                                                                                                 ...   \n",
       "26                                                                                                                                                                                                                                                                                                0\\n0                                                                                                         The Eee Super Hybrid Engine utility lets users overclock or underclock their Eee PC's to boost performance or provide better battery life depending on their immediate requirements .\\n1                                                                                                                     ...   \n",
       "27                                                                                                                                                                                                                                                                                                                                0\\n0                                                                                                                                                                                                                              If a case was included, as with the Kindle 1, that would have been reflected in a higher price .\\n1                                                     ...   \n",
       "33                                                                                                                                                                                                                                                                                                                          0\\n0                                                                                                                                                                                                                                                                                       It's fast to acquire satellites .\\n1    If you've ever had a  Brand X  GPS take you on some strange r...   \n",
       "34                                                                                                                                                                                                                                                                     0\\n0                                                                                                                                                                                                   It is easy to read and when touching the screen it works great !\\n1                                                                                                                                                                    and zoo...   \n",
       "35                                                                                                                                                                                                                                                                                                                                            0\\n0                                                                                                                                                                                                                                                                                         As always, the video screen is sharp and bright .\\n1                             ...   \n",
       "36                                                                                                                                                                                                                                                                                                                                                                                           0\\n0                                                                                                                                                                                                                                                                       Keep in mind that once you get in a room full of lig...   \n",
       "41                                                                                                                                                                                                                                                                                                                                                                                0\\n0                                                                                                                                                                                                     A few other things I'd like to point out is that you must push the micro, sized right angle end of the ac adapter until it snaps ...   \n",
       "42                                                                                                                                                                                                                                                                                    0\\n0     headphone jack i got a clear case for it and it  i got a clear case for it and it like prvents me from being able to put the jack all the way in so the sound can b messsed up or i can get it in there and its playing well them go to move or something and it slides out .\\n1                                                                                                                                             ...   \n",
       "43                                                                                                                                                                                                                                                                                                               0\\n0                                                                                                                                                         Another feature on the 255w is a display of the posted speed limit on the road which you are currently on right above your current displayed speed .\\n1                                                                                       ...   \n",
       "44                                                                                                                                                                                                                                                                                                                                0\\n0                                                                                                                     Windows 7 is quite simply faster, more stable, boots faster, goes to sleep faster, comes back from sleep faster, manages your files better and on top of that it's beautiful to look at and easy to use .\\n1                                                     ...   \n",
       "48                                                                                                                                                                                                                                                              0\\n0                                                                          Another thing to consider was that I paid $50 less for the 750 and it came with the FM transmitter cable and a USB cord to connect it to your computer for updates and downloads .\\n1                                                                                                                                                                                         ...   \n",
       "49                                                                                                                                                                                                                                                                                                                                             0\\n0                                                                                                                                                                                                                                                                        I bought the 8, gig Ipod Nano that has the built, in video camera .\\n1                           ...   \n",
       "50                                                                                                                                                                                                                                                                               0\\n0                                                                                                                                                                                                The voice prompts and maps are wonderful especially when driving after dark .\\n1                                                                                                                                                       ...   \n",
       "\n",
       "    cluster_labels  \n",
       "0                2  \n",
       "2                2  \n",
       "3                2  \n",
       "4                2  \n",
       "5                2  \n",
       "8                2  \n",
       "9                2  \n",
       "10               2  \n",
       "11               2  \n",
       "12               2  \n",
       "19               2  \n",
       "23               2  \n",
       "26               2  \n",
       "27               2  \n",
       "33               2  \n",
       "34               2  \n",
       "35               2  \n",
       "36               2  \n",
       "41               2  \n",
       "42               2  \n",
       "43               2  \n",
       "44               2  \n",
       "48               2  \n",
       "49               2  \n",
       "50               2  "
      ]
     },
     "execution_count": 43,
     "metadata": {},
     "output_type": "execute_result"
    }
   ],
   "source": [
    "# 군집==0 , 파일명 정렬\n",
    "doc_df[doc_df['cluster_labels']==2]"
   ]
  },
  {
   "cell_type": "code",
   "execution_count": 45,
   "metadata": {},
   "outputs": [
    {
     "data": {
      "text/plain": [
       "(3, 4604)"
      ]
     },
     "execution_count": 45,
     "metadata": {},
     "output_type": "execute_result"
    }
   ],
   "source": [
    "km_cluster.cluster_centers_.shape"
   ]
  },
  {
   "cell_type": "code",
   "execution_count": 49,
   "metadata": {},
   "outputs": [
    {
     "data": {
      "text/plain": [
       "array([[3460, 2091, 3641, ..., 1557, 3528,    0],\n",
       "       [2247, 3605, 2702, ..., 2786, 2784,    0],\n",
       "       [3565,  684, 2337, ..., 2359, 2358, 2301]], dtype=int64)"
      ]
     },
     "execution_count": 49,
     "metadata": {},
     "output_type": "execute_result"
    }
   ],
   "source": [
    "cluster_details = {} # key:value\n",
    "\n",
    "# [0,::-1] : 첫번째 중심 단어들의 값 \n",
    "# [1,::-1] : 두번째 중심 단어들의 값 \n",
    "# [2,::-1] : 세번째 중심 단어들의 값 \n",
    "# [:,::-1] : 세개 중심 단어들의 값 \n",
    "\n",
    "centroid_feature_ordered_ind = km_cluster.cluster_centers_.argsort()[:,::-1]\n",
    "centroid_feature_ordered_ind\n",
    "# array([   0, 3528, 1557, ..., 3641, 2091, 3460], dtype=int64)\n",
    "\n",
    "# array([3460, 2091, 3641, ..., 1557, 3528,    0], dtype=int64)"
   ]
  },
  {
   "cell_type": "code",
   "execution_count": 51,
   "metadata": {},
   "outputs": [
    {
     "data": {
      "text/plain": [
       "[0, 1, 2]"
      ]
     },
     "execution_count": 51,
     "metadata": {},
     "output_type": "execute_result"
    }
   ],
   "source": [
    "list(range(3))"
   ]
  },
  {
   "cell_type": "code",
   "execution_count": 52,
   "metadata": {},
   "outputs": [
    {
     "name": "stdout",
     "output_type": "stream",
     "text": [
      "{0: {'cluster': 0}, 1: {'cluster': 1}, 2: {'cluster': 2}}\n"
     ]
    }
   ],
   "source": [
    "top_n_features=10\n",
    "for cluster_num in range(3):\n",
    "    cluster_details[cluster_num]={}\n",
    "    cluster_details[cluster_num]['cluster']=cluster_num\n",
    "# print(cluster_details)\n",
    "    # top N 피처 단어 구하기\n",
    "    top_feature_indexes = centroid_feature_ordered_ind[cluster_num, :top_n_features]\n",
    "    # feature_names : 단어들\n",
    "    top_features = [feature_names for ind in top_feature_indexes]"
   ]
  },
  {
   "cell_type": "code",
   "execution_count": 61,
   "metadata": {},
   "outputs": [],
   "source": [
    "# 군집별 top n 핵심단어, 그 단어의 중심 위치 상대값, 대상 파일명을 반환함\n",
    "def get_cluster_details(cluster_model, cluster_data, feature_names, cluster_num, top_n_features=10):\n",
    "    cluster_details ={}\n",
    "    \n",
    "    centroid_feature_ordered_ind = cluster_model.cluster_centers_.argsort()[:,::-1]\n",
    "    \n",
    "    for cluster_num in range(cluster_num):\n",
    "        cluster_details[cluster_num]={}\n",
    "        cluster_details[cluster_num]['cluster']=cluster_num\n",
    "        \n",
    "        top_feature_indexes = centroid_feature_ordered_ind[cluster_num, :top_n_features]\n",
    "        top_features = [feature_names[ind] for ind in top_feature_indexes] #인덱스로 단어 추출\n",
    "        \n",
    "        top_feature_values=cluster_model.cluster_centers_[cluster_num, top_feature_indexes].tolist()\n",
    "        \n",
    "        # top 10 단어 추가\n",
    "        cluster_details[cluster_num]['top_features']=top_features\n",
    "        # 단어별 값 추가\n",
    "        cluster_details[cluster_num]['top_features_value']=top_feature_values\n",
    "        \n",
    "        # 파일명\n",
    "        filenames = cluster_data[cluster_data['cluster_labels']==cluster_num]['filename'] # Series \n",
    "        filenames = filenames.values.tolist()\n",
    "        \n",
    "        cluster_details[cluster_num]['filenames']=filenames\n",
    "        \n",
    "    return cluster_details\n",
    "        "
   ]
  },
  {
   "cell_type": "code",
   "execution_count": 62,
   "metadata": {},
   "outputs": [],
   "source": [
    "# 위 함수의 결과를 화면에 출력\n",
    "# cluster_details : dict.items() => return (key,value)\n",
    "def print_cluster_details(cluster_details):\n",
    "    for cluster_num, cluster_detail in cluster_details.items():\n",
    "        print(f'########## Cluster{cluster_num}')\n",
    "        print(f'Top features : {cluster_detail[\"top_features\"]}')\n",
    "        print(f'Reviews 파일명 : {cluster_detail[\"filenames\"][:7]}')\n",
    "        print('========================================')   "
   ]
  },
  {
   "cell_type": "code",
   "execution_count": 63,
   "metadata": {},
   "outputs": [
    {
     "data": {
      "text/plain": [
       "array(['clean hotel', 'clean location', 'clean modern', 'clean morning',\n",
       "       'clean nice', 'clean pleasant', 'clean quiet', 'clean room',\n",
       "       'clean serviced', 'clean small'], dtype=object)"
      ]
     },
     "execution_count": 63,
     "metadata": {},
     "output_type": "execute_result"
    }
   ],
   "source": [
    "feature_names=tfidf_vect.get_feature_names_out()\n",
    "feature_names[1000:1010]"
   ]
  },
  {
   "cell_type": "code",
   "execution_count": 64,
   "metadata": {},
   "outputs": [],
   "source": [
    "cluster_details = get_cluster_details(\n",
    "      cluster_model=km_cluster\n",
    "    , cluster_data=doc_df\n",
    "    , feature_names=feature_names\n",
    "    , cluster_num=3\n",
    "    , top_n_features=10\n",
    ")"
   ]
  },
  {
   "cell_type": "code",
   "execution_count": 65,
   "metadata": {},
   "outputs": [
    {
     "name": "stdout",
     "output_type": "stream",
     "text": [
      "########## Cluster0\n",
      "Top features : ['room', 'hotel', 'service', 'staff', 'food', 'location', 'bathroom', 'clean', 'price', 'parking']\n",
      "Reviews 파일명 : ['bathroom_bestwestern_hotel_sfo', 'food_holiday_inn_london', 'food_swissotel_chicago', 'free_bestwestern_hotel_sfo', 'location_bestwestern_hotel_sfo', 'location_holiday_inn_london', 'parking_bestwestern_hotel_sfo']\n",
      "========================================\n",
      "########## Cluster1\n",
      "Top features : ['interior', 'seat', 'mileage', 'comfortable', 'gas', 'gas mileage', 'transmission', 'car', 'performance', 'quality']\n",
      "Reviews 파일명 : ['comfort_honda_accord_2008', 'comfort_toyota_camry_2007', 'gas_mileage_toyota_camry_2007', 'interior_honda_accord_2008', 'interior_toyota_camry_2007', 'mileage_honda_accord_2008', 'performance_honda_accord_2008']\n",
      "========================================\n",
      "########## Cluster2\n",
      "Top features : ['screen', 'battery', 'keyboard', 'battery life', 'life', 'kindle', 'direction', 'video', 'size', 'voice']\n",
      "Reviews 파일명 : ['accuracy_garmin_nuvi_255W_gps', 'battery-life_amazon_kindle', 'battery-life_ipod_nano_8gb', 'battery-life_netbook_1005ha', 'buttons_amazon_kindle', 'directions_garmin_nuvi_255W_gps', 'display_garmin_nuvi_255W_gps']\n",
      "========================================\n"
     ]
    }
   ],
   "source": [
    "print_cluster_details(cluster_details)"
   ]
  },
  {
   "cell_type": "code",
   "execution_count": null,
   "metadata": {},
   "outputs": [],
   "source": []
  }
 ],
 "metadata": {
  "kernelspec": {
   "display_name": "ml-dev",
   "language": "python",
   "name": "python3"
  },
  "language_info": {
   "codemirror_mode": {
    "name": "ipython",
    "version": 3
   },
   "file_extension": ".py",
   "mimetype": "text/x-python",
   "name": "python",
   "nbconvert_exporter": "python",
   "pygments_lexer": "ipython3",
   "version": "3.10.13"
  }
 },
 "nbformat": 4,
 "nbformat_minor": 2
}
