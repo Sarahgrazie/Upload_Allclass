{
 "cells": [
  {
   "cell_type": "code",
   "execution_count": 2,
   "metadata": {},
   "outputs": [],
   "source": [
    "import pandas as pd"
   ]
  },
  {
   "cell_type": "code",
   "execution_count": 4,
   "metadata": {},
   "outputs": [
    {
     "data": {
      "text/html": [
       "<div>\n",
       "<style scoped>\n",
       "    .dataframe tbody tr th:only-of-type {\n",
       "        vertical-align: middle;\n",
       "    }\n",
       "\n",
       "    .dataframe tbody tr th {\n",
       "        vertical-align: top;\n",
       "    }\n",
       "\n",
       "    .dataframe thead th {\n",
       "        text-align: right;\n",
       "    }\n",
       "</style>\n",
       "<table border=\"1\" class=\"dataframe\">\n",
       "  <thead>\n",
       "    <tr style=\"text-align: right;\">\n",
       "      <th></th>\n",
       "      <th>Unnamed: 0</th>\n",
       "      <th>표준코드</th>\n",
       "      <th>단축코드</th>\n",
       "      <th>한글 종목명</th>\n",
       "      <th>한글 종목약명</th>\n",
       "      <th>영문 종목명</th>\n",
       "      <th>상장일</th>\n",
       "      <th>시장구분</th>\n",
       "      <th>증권구분</th>\n",
       "      <th>소속부</th>\n",
       "      <th>주식종류</th>\n",
       "      <th>액면가</th>\n",
       "      <th>상장주식수</th>\n",
       "    </tr>\n",
       "  </thead>\n",
       "  <tbody>\n",
       "    <tr>\n",
       "      <th>0</th>\n",
       "      <td>0</td>\n",
       "      <td>KR7098120009</td>\n",
       "      <td>098120</td>\n",
       "      <td>(주)마이크로컨텍솔루션</td>\n",
       "      <td>마이크로컨텍솔</td>\n",
       "      <td>Micro Contact Solution Co.,Ltd.</td>\n",
       "      <td>2008/09/23</td>\n",
       "      <td>KOSDAQ</td>\n",
       "      <td>주권</td>\n",
       "      <td>중견기업부</td>\n",
       "      <td>보통주</td>\n",
       "      <td>500</td>\n",
       "      <td>8312766</td>\n",
       "    </tr>\n",
       "    <tr>\n",
       "      <th>1</th>\n",
       "      <td>1</td>\n",
       "      <td>KR7009520008</td>\n",
       "      <td>009520</td>\n",
       "      <td>(주)포스코엠텍</td>\n",
       "      <td>포스코엠텍</td>\n",
       "      <td>POSCO M-TECH CO.,LTD.</td>\n",
       "      <td>1997/11/10</td>\n",
       "      <td>KOSDAQ</td>\n",
       "      <td>주권</td>\n",
       "      <td>우량기업부</td>\n",
       "      <td>보통주</td>\n",
       "      <td>500</td>\n",
       "      <td>41642703</td>\n",
       "    </tr>\n",
       "    <tr>\n",
       "      <th>2</th>\n",
       "      <td>2</td>\n",
       "      <td>KR7095570008</td>\n",
       "      <td>095570</td>\n",
       "      <td>AJ네트웍스보통주</td>\n",
       "      <td>AJ네트웍스</td>\n",
       "      <td>AJ Networks Co.,Ltd.</td>\n",
       "      <td>2015/08/21</td>\n",
       "      <td>KOSPI</td>\n",
       "      <td>주권</td>\n",
       "      <td>NaN</td>\n",
       "      <td>보통주</td>\n",
       "      <td>1000</td>\n",
       "      <td>45252759</td>\n",
       "    </tr>\n",
       "  </tbody>\n",
       "</table>\n",
       "</div>"
      ],
      "text/plain": [
       "   Unnamed: 0          표준코드    단축코드        한글 종목명  한글 종목약명  \\\n",
       "0           0  KR7098120009  098120  (주)마이크로컨텍솔루션  마이크로컨텍솔   \n",
       "1           1  KR7009520008  009520      (주)포스코엠텍    포스코엠텍   \n",
       "2           2  KR7095570008  095570     AJ네트웍스보통주   AJ네트웍스   \n",
       "\n",
       "                            영문 종목명         상장일    시장구분 증권구분    소속부 주식종류   액면가  \\\n",
       "0  Micro Contact Solution Co.,Ltd.  2008/09/23  KOSDAQ   주권  중견기업부  보통주   500   \n",
       "1            POSCO M-TECH CO.,LTD.  1997/11/10  KOSDAQ   주권  우량기업부  보통주   500   \n",
       "2             AJ Networks Co.,Ltd.  2015/08/21   KOSPI   주권    NaN  보통주  1000   \n",
       "\n",
       "      상장주식수  \n",
       "0   8312766  \n",
       "1  41642703  \n",
       "2  45252759  "
      ]
     },
     "execution_count": 4,
     "metadata": {},
     "output_type": "execute_result"
    }
   ],
   "source": [
    "a=pd.read_csv('./jo.csv')\n",
    "a.head(3)         #xlxs를 csv pandas 로 넘김\n"
   ]
  }
 ],
 "metadata": {
  "kernelspec": {
   "display_name": "ml-dev",
   "language": "python",
   "name": "python3"
  },
  "language_info": {
   "codemirror_mode": {
    "name": "ipython",
    "version": 3
   },
   "file_extension": ".py",
   "mimetype": "text/x-python",
   "name": "python",
   "nbconvert_exporter": "python",
   "pygments_lexer": "ipython3",
   "version": "3.10.13"
  }
 },
 "nbformat": 4,
 "nbformat_minor": 2
}
