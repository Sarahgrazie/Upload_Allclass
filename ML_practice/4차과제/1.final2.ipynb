{
 "cells": [
  {
   "cell_type": "code",
   "execution_count": 7,
   "metadata": {},
   "outputs": [
    {
     "name": "stderr",
     "output_type": "stream",
     "text": [
      "c:\\ProgramData\\anaconda3\\envs\\ml-dev\\lib\\site-packages\\sklearn\\linear_model\\_logistic.py:460: ConvergenceWarning: lbfgs failed to converge (status=1):\n",
      "STOP: TOTAL NO. of ITERATIONS REACHED LIMIT.\n",
      "\n",
      "Increase the number of iterations (max_iter) or scale the data as shown in:\n",
      "    https://scikit-learn.org/stable/modules/preprocessing.html\n",
      "Please also refer to the documentation for alternative solver options:\n",
      "    https://scikit-learn.org/stable/modules/linear_model.html#logistic-regression\n",
      "  n_iter_i = _check_optimize_result(\n"
     ]
    }
   ],
   "source": [
    "import numpy as np\n",
    "import pandas as pd\n",
    "from sklearn.model_selection import train_test_split\n",
    "from sklearn.linear_model import LogisticRegression\n",
    "from sklearn.metrics import accuracy_score\n",
    "\n",
    "# Load and preprocess training data\n",
    "titanic_data = pd.read_csv('./titanic_train.csv')\n",
    "\n",
    "titanic_data = titanic_data.drop(columns='Cabin', axis=1)\n",
    "titanic_data['Age'].fillna(titanic_data['Age'].mean(), inplace=True)\n",
    "titanic_data['Embarked'].fillna(titanic_data['Embarked'].mode()[0], inplace=True)\n",
    "titanic_data['Fare'].fillna(titanic_data['Fare'].mean(), inplace=True)\n",
    "titanic_data.replace({'Sex': {'male': 0, 'female': 1}, 'Embarked': {'S': 0, 'C': 1, 'Q': 2}}, inplace=True)\n",
    "\n",
    "titanic_data.isnull().sum()\n",
    "\n",
    "# Separate features and target variable\n",
    "X = titanic_data.drop(columns=['PassengerId', 'Name', 'Ticket', 'Survived'], axis=1)\n",
    "Y = titanic_data['Survived']\n",
    "\n",
    "# Split the data into training and testing sets\n",
    "X_train, X_test, Y_train, Y_test = train_test_split(X, Y, test_size=0.2, random_state=2)\n",
    "\n",
    "# Train a logistic regression model\n",
    "model = LogisticRegression()\n",
    "model.fit(X_train, Y_train)\n",
    "\n",
    "# Make predictions on the test data\n",
    "X_submission = pd.read_csv('./titanic_test.csv')\n",
    "X_submission = X_submission.drop(columns='Cabin', axis=1)\n",
    "X_submission['Age'].fillna(X_submission['Age'].mean(), inplace=True)\n",
    "X_submission['Embarked'].fillna(X_submission['Embarked'].mode()[0], inplace=True)\n",
    "X_submission['Fare'].fillna(X_submission['Fare'].mean(), inplace=True)\n",
    "X_submission.replace({'Sex': {'male': 0, 'female': 1}, 'Embarked': {'S': 0, 'C': 1, 'Q': 2}}, inplace=True)\n",
    "\n",
    "submission_predictions = model.predict(X_submission.drop(columns=['PassengerId', 'Name', 'Ticket']))\n",
    "\n",
    "# Create a DataFrame with 'PassengerId' and 'Survived' columns\n",
    "submission_df = pd.DataFrame({'PassengerId': X_submission['PassengerId'], 'Survived': submission_predictions})\n",
    "\n",
    "# Save the DataFrame to a CSV file\n",
    "submission_df.to_csv('./titanic_submission5.csv', index=False)\n"
   ]
  }
 ],
 "metadata": {
  "kernelspec": {
   "display_name": "ml-dev",
   "language": "python",
   "name": "python3"
  },
  "language_info": {
   "codemirror_mode": {
    "name": "ipython",
    "version": 3
   },
   "file_extension": ".py",
   "mimetype": "text/x-python",
   "name": "python",
   "nbconvert_exporter": "python",
   "pygments_lexer": "ipython3",
   "version": "3.10.13"
  }
 },
 "nbformat": 4,
 "nbformat_minor": 2
}
