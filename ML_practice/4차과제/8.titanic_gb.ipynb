{
 "cells": [
  {
   "cell_type": "code",
   "execution_count": 1,
   "metadata": {},
   "outputs": [
    {
     "ename": "NameError",
     "evalue": "name 'X_train' is not defined",
     "output_type": "error",
     "traceback": [
      "\u001b[1;31m---------------------------------------------------------------------------\u001b[0m",
      "\u001b[1;31mNameError\u001b[0m                                 Traceback (most recent call last)",
      "Cell \u001b[1;32mIn[1], line 9\u001b[0m\n\u001b[0;32m      7\u001b[0m \u001b[38;5;66;03m# GradientBoostingClassifier 초기화 및 학습\u001b[39;00m\n\u001b[0;32m      8\u001b[0m gb_model \u001b[38;5;241m=\u001b[39m GradientBoostingClassifier(random_state\u001b[38;5;241m=\u001b[39m\u001b[38;5;241m2\u001b[39m)\n\u001b[1;32m----> 9\u001b[0m gb_model\u001b[38;5;241m.\u001b[39mfit(\u001b[43mX_train\u001b[49m, Y_train)\n\u001b[0;32m     11\u001b[0m \u001b[38;5;66;03m# 학습 데이터 정확도 출력\u001b[39;00m\n\u001b[0;32m     12\u001b[0m X_train_prediction_gb \u001b[38;5;241m=\u001b[39m gb_model\u001b[38;5;241m.\u001b[39mpredict(X_train)\n",
      "\u001b[1;31mNameError\u001b[0m: name 'X_train' is not defined"
     ]
    }
   ],
   "source": [
    "from sklearn.ensemble import GradientBoostingClassifier\n",
    "from sklearn.metrics import accuracy_score, classification_report, confusion_matrix\n",
    "from sklearn.model_selection import cross_val_score\n",
    "\n",
    "\n",
    "\n",
    "# GradientBoostingClassifier 초기화 및 학습\n",
    "gb_model = GradientBoostingClassifier(random_state=2)\n",
    "gb_model.fit(X_train, Y_train)\n",
    "\n",
    "# 학습 데이터 정확도 출력\n",
    "X_train_prediction_gb = gb_model.predict(X_train)\n",
    "training_data_accuracy_gb = accuracy_score(Y_train, X_train_prediction_gb)\n",
    "print('Accuracy score of training data (Gradient Boosting): ', training_data_accuracy_gb)\n",
    "\n",
    "# 테스트 데이터 정확도 출력\n",
    "X_test_prediction_gb = gb_model.predict(X_test)\n",
    "test_data_accuracy_gb = accuracy_score(Y_test, X_test_prediction_gb)\n",
    "print('Accuracy score of test data (Gradient Boosting): ', test_data_accuracy_gb)\n",
    "\n",
    "# 교차 검증을 통한 정확도 확인\n",
    "cross_val_scores_gb = cross_val_score(gb_model, X, Y, cv=5)\n",
    "print('Cross-validated accuracy (Gradient Boosting):', np.mean(cross_val_scores_gb))\n",
    "\n",
    "# 테스트 데이터에 대한 예측 수행\n",
    "test_predictions_gb = gb_model.predict(titanic_test)\n",
    "\n",
    "# 예측 결과를 데이터프레임으로 변환\n",
    "submission_gb = pd.DataFrame({'PassengerId': titanic_test['PassengerId'], 'Survived': test_predictions_gb})\n",
    "\n",
    "# CSV 파일로 저장\n",
    "submission_gb.to_csv('titanic_submission_gb.csv', index=False)\n",
    "\n",
    "# classification report 및 confusion matrix 출력\n",
    "print('\\nClassification Report (Gradient Boosting):')\n",
    "print(classification_report(Y_test, X_test_prediction_gb))\n",
    "print('\\nConfusion Matrix (Gradient Boosting):')\n",
    "print(confusion_matrix(Y_test, X_test_prediction_gb))\n"
   ]
  }
 ],
 "metadata": {
  "kernelspec": {
   "display_name": "ml-dev",
   "language": "python",
   "name": "python3"
  },
  "language_info": {
   "codemirror_mode": {
    "name": "ipython",
    "version": 3
   },
   "file_extension": ".py",
   "mimetype": "text/x-python",
   "name": "python",
   "nbconvert_exporter": "python",
   "pygments_lexer": "ipython3",
   "version": "3.10.13"
  }
 },
 "nbformat": 4,
 "nbformat_minor": 2
}
