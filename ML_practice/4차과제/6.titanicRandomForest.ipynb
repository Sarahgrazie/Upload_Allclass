{
 "cells": [
  {
   "cell_type": "code",
   "execution_count": 2,
   "metadata": {},
   "outputs": [],
   "source": [
    "import numpy as np\n",
    "import pandas as pd\n",
    "from sklearn.ensemble import RandomForestClassifier\n",
    "from sklearn.model_selection import train_test_split\n",
    "from sklearn.metrics import accuracy_score"
   ]
  },
  {
   "cell_type": "code",
   "execution_count": 6,
   "metadata": {},
   "outputs": [
    {
     "name": "stdout",
     "output_type": "stream",
     "text": [
      "Accuracy score of training data:  0.9859550561797753\n",
      "Accuracy score of test data:  0.7932960893854749\n"
     ]
    }
   ],
   "source": [
    "# Load the data\n",
    "titanic_data = pd.read_csv('./titanic_train.csv')\n",
    "test_data = pd.read_csv('./titanic_test.csv')\n",
    "\n",
    "# Feature Engineering: Add a new feature \"FamilySize\" combining \"SibSp\" and \"Parch\"\n",
    "titanic_data['FamilySize'] = titanic_data['SibSp'] + titanic_data['Parch'] + 1\n",
    "test_data['FamilySize'] = test_data['SibSp'] + test_data['Parch'] + 1\n",
    "\n",
    "# Drop irrelevant columns\n",
    "titanic_data = titanic_data.drop(columns=['Cabin', 'Name', 'Ticket'], axis=1)\n",
    "test_data = test_data.drop(columns=['Cabin', 'Name', 'Ticket'], axis=1)\n",
    "\n",
    "# Handle missing values\n",
    "titanic_data['Age'].fillna(titanic_data['Age'].mean(), inplace=True)\n",
    "titanic_data['Embarked'].fillna(titanic_data['Embarked'].mode()[0], inplace=True)\n",
    "\n",
    "test_data['Age'].fillna(test_data['Age'].mean(), inplace=True)\n",
    "test_data['Embarked'].fillna(test_data['Embarked'].mode()[0], inplace=True)\n",
    "test_data['Fare'].fillna(test_data['Fare'].mean(), inplace=True)\n",
    "\n",
    "# Convert categorical columns using one-hot encoding\n",
    "titanic_data = pd.get_dummies(titanic_data, columns=['Sex', 'Embarked'])\n",
    "test_data = pd.get_dummies(test_data, columns=['Sex', 'Embarked'])\n",
    "\n",
    "# Prepare data for training\n",
    "X = titanic_data.drop(columns=['PassengerId', 'Survived'], axis=1)\n",
    "Y = titanic_data['Survived']\n",
    "\n",
    "X_train, X_test, Y_train, Y_test = train_test_split(X, Y, test_size=0.2, random_state=2)\n",
    "\n",
    "# Train the Random Forest model\n",
    "rf_model = RandomForestClassifier(n_estimators=100, random_state=2)\n",
    "rf_model.fit(X_train, Y_train)\n",
    "\n",
    "# Evaluate the model\n",
    "X_train_prediction = rf_model.predict(X_train)\n",
    "training_data_accuracy = accuracy_score(Y_train, X_train_prediction)\n",
    "print('Accuracy score of training data: ', training_data_accuracy)\n",
    "\n",
    "X_test_prediction = rf_model.predict(X_test)\n",
    "test_data_accuracy = accuracy_score(Y_test, X_test_prediction)\n",
    "print('Accuracy score of test data: ', test_data_accuracy)\n",
    "\n",
    "# Make predictions for test data\n",
    "test_predictions = rf_model.predict(test_data.drop(columns=['PassengerId']))\n",
    "\n",
    "# Create a submission dataframe\n",
    "submission = pd.DataFrame({'PassengerId': test_data['PassengerId'], 'Survived': test_predictions})\n",
    "\n",
    "# Save the submission to a CSV file\n",
    "submission.to_csv('titanic_submission2.csv', index=False)\n"
   ]
  },
  {
   "cell_type": "code",
   "execution_count": null,
   "metadata": {},
   "outputs": [],
   "source": []
  },
  {
   "cell_type": "code",
   "execution_count": null,
   "metadata": {},
   "outputs": [],
   "source": []
  },
  {
   "cell_type": "code",
   "execution_count": null,
   "metadata": {},
   "outputs": [],
   "source": []
  },
  {
   "cell_type": "code",
   "execution_count": null,
   "metadata": {},
   "outputs": [],
   "source": []
  },
  {
   "cell_type": "code",
   "execution_count": null,
   "metadata": {},
   "outputs": [],
   "source": []
  },
  {
   "cell_type": "code",
   "execution_count": null,
   "metadata": {},
   "outputs": [],
   "source": []
  },
  {
   "cell_type": "code",
   "execution_count": null,
   "metadata": {},
   "outputs": [],
   "source": []
  }
 ],
 "metadata": {
  "kernelspec": {
   "display_name": "ml-dev",
   "language": "python",
   "name": "python3"
  },
  "language_info": {
   "codemirror_mode": {
    "name": "ipython",
    "version": 3
   },
   "file_extension": ".py",
   "mimetype": "text/x-python",
   "name": "python",
   "nbconvert_exporter": "python",
   "pygments_lexer": "ipython3",
   "version": "3.10.13"
  }
 },
 "nbformat": 4,
 "nbformat_minor": 2
}
