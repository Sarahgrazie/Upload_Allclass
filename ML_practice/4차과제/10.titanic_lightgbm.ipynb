{
 "cells": [
  {
   "cell_type": "code",
   "execution_count": 1,
   "metadata": {},
   "outputs": [
    {
     "name": "stdout",
     "output_type": "stream",
     "text": [
      "Accuracy score of training data (LightGBM):  0.949438202247191\n",
      "Accuracy score of test data (LightGBM):  0.7821229050279329\n"
     ]
    }
   ],
   "source": [
    "import numpy as np\n",
    "import pandas as pd\n",
    "from sklearn.model_selection import train_test_split\n",
    "from sklearn.metrics import accuracy_score\n",
    "from lightgbm import LGBMClassifier\n",
    "\n",
    "# 학습 데이터 로딩\n",
    "titanic_data = pd.read_csv('./titanic_train.csv')\n",
    "\n",
    "# 'Cabin' 열 제거\n",
    "titanic_data = titanic_data.drop(columns='Cabin', axis=1)\n",
    "\n",
    "# 'Age' 열의 결측치를 평균값으로 대체\n",
    "titanic_data['Age'].fillna(titanic_data['Age'].mean(), inplace=True)\n",
    "\n",
    "# 'Embarked' 열의 결측치를 최빈값으로 대체\n",
    "titanic_data['Embarked'].fillna(titanic_data['Embarked'].mode()[0], inplace=True)\n",
    "\n",
    "# 'Survived'를 문자열로 변환\n",
    "titanic_data['Survived'] = titanic_data['Survived'].astype(str)\n",
    "\n",
    "# 'Embarked' 열의 문자열을 숫자로 변환\n",
    "titanic_data.replace({'Sex': {'male': 0, 'female': 1}, 'Embarked': {'S': 0, 'C': 1, 'Q': 2}}, inplace=True)\n",
    "\n",
    "# 'Name', 'Ticket', 'PassengerId' 열 제거\n",
    "titanic_data = titanic_data.drop(columns=['Name', 'Ticket', 'PassengerId'], axis=1)\n",
    "\n",
    "# 독립 변수(X)와 종속 변수(Y) 설정\n",
    "X = titanic_data.drop(columns=['Survived'], axis=1)\n",
    "Y = titanic_data['Survived']\n",
    "\n",
    "# 학습 데이터와 테스트 데이터로 분할\n",
    "X_train, X_test, Y_train, Y_test = train_test_split(X, Y, test_size=0.2, random_state=2)\n",
    "\n",
    "# LightGBM 모델 초기화 및 학습\n",
    "lgbm_model = LGBMClassifier(random_state=2)\n",
    "lgbm_model.fit(X_train, Y_train)\n",
    "\n",
    "# 학습 데이터 정확도 출력\n",
    "X_train_prediction_lgbm = lgbm_model.predict(X_train)\n",
    "training_data_accuracy_lgbm = accuracy_score(Y_train, X_train_prediction_lgbm)\n",
    "print('Accuracy score of training data (LightGBM): ', training_data_accuracy_lgbm)\n",
    "\n",
    "# 테스트 데이터 정확도 출력\n",
    "X_test_prediction_lgbm = lgbm_model.predict(X_test)\n",
    "test_data_accuracy_lgbm = accuracy_score(Y_test, X_test_prediction_lgbm)\n",
    "print('Accuracy score of test data (LightGBM): ', test_data_accuracy_lgbm)\n"
   ]
  }
 ],
 "metadata": {
  "kernelspec": {
   "display_name": "ml-dev",
   "language": "python",
   "name": "python3"
  },
  "language_info": {
   "codemirror_mode": {
    "name": "ipython",
    "version": 3
   },
   "file_extension": ".py",
   "mimetype": "text/x-python",
   "name": "python",
   "nbconvert_exporter": "python",
   "pygments_lexer": "ipython3",
   "version": "3.10.13"
  }
 },
 "nbformat": 4,
 "nbformat_minor": 2
}
