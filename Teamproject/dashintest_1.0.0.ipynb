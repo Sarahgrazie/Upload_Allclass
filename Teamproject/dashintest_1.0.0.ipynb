{
 "cells": [
  {
   "cell_type": "code",
   "execution_count": null,
   "id": "336fa1e4",
   "metadata": {},
   "outputs": [],
   "source": [
    "import win32com.client\n",
    "import pandas as pd\n",
    "import numpy as np\n",
    "import time"
   ]
  },
  {
   "cell_type": "code",
   "execution_count": 2,
   "id": "8f9934b7",
   "metadata": {},
   "outputs": [
    {
     "name": "stdout",
     "output_type": "stream",
     "text": [
      "('32bit', 'WindowsPE')\n"
     ]
    }
   ],
   "source": [
    "import platform\n",
    "print(platform.architecture())"
   ]
  },
  {
   "cell_type": "code",
   "execution_count": 8,
   "id": "8f232d42",
   "metadata": {},
   "outputs": [
    {
     "name": "stdout",
     "output_type": "stream",
     "text": [
      "1\n"
     ]
    }
   ],
   "source": [
    "instCpCybos = win32com.client.Dispatch(\"CpUtil.CpCybos\")\n",
    "print(instCpCybos.IsConnect)"
   ]
  },
  {
   "cell_type": "markdown",
   "id": "e0d9b1ab",
   "metadata": {},
   "source": [
    "# 2000개 요청가능"
   ]
  },
  {
   "cell_type": "code",
   "execution_count": 4,
   "id": "6312f7ef",
   "metadata": {
    "scrolled": true
   },
   "outputs": [],
   "source": [
    "def dashinChart(code, startdate, enddate):\n",
    "    import win32com.client\n",
    "\n",
    "    # Create object\n",
    "    instStockChart = win32com.client.Dispatch(\"CpSysDib.StockChart\")\n",
    "\n",
    "    # SetInputValue\n",
    "    instStockChart.SetInputValue(0, code)  #종목코드\n",
    "    instStockChart.SetInputValue(1, ord('1'))   #1: 기간 2: 개수\n",
    "    # 시간조정 1.기간요청하면 사용\n",
    "    instStockChart.SetInputValue(2, enddate) #수집 종료 날짜\n",
    "    instStockChart.SetInputValue(3, startdate) #수집 시작 날짜\n",
    "    # 요청개수 2.개수요청시 사용\n",
    "    # instStockChart.SetInputValue(4, 2000)\n",
    "    #5 필드\n",
    "    instStockChart.SetInputValue(5, (0,1,2,3,4,5,8,9)) #필드값: 날짜,시간,시고저종,거래량,거래대금,상장주식수,시가총액\n",
    "    instStockChart.SetInputValue(6, ord('m'))  # m 분단위\n",
    "    instStockChart.SetInputValue(7,1)          # 주기 default-1\n",
    "    # instStockChart.SetInputValue(8,ord('0')) # 갭보정 default-0 무보정\n",
    "    instStockChart.SetInputValue(9, ord('1'))  # 1 (수정주가로 요청)\n",
    "    instStockChart.SetInputValue(10, ord('3'))  # 3 (시간외 거래 모두제외)\n",
    "\n",
    "    # BlockRequest\n",
    "    instStockChart.BlockRequest()\n",
    "    \n",
    "    return instStockChart"
   ]
  },
  {
   "cell_type": "code",
   "execution_count": 10,
   "id": "265aca17",
   "metadata": {},
   "outputs": [],
   "source": [
    "def save_csv(instStockChart,sd,ed):\n",
    "    # GetHeaderValue\n",
    "    code=instStockChart.GetHeaderValue(0) #종목코드\n",
    "    numData =instStockChart.GetHeaderValue(3)  #데이터 개수\n",
    "    numField =instStockChart.GetHeaderValue(1) #컬럼수\n",
    "    print('코드','로우','컬럼수')\n",
    "    print(code,numData,numField)\n",
    "    save=[]\n",
    "    for idx in range(numData):\n",
    "        tmp=[]\n",
    "        for col in range(numField):\n",
    "            tmp.append(instStockChart.GetDataValue(col, idx))\n",
    "        # print(tmp)\n",
    "        save.append(tmp)\n",
    "        \n",
    "    columns_name=['날짜','시간','시가','고가','저가','종가','거래량','거래대금']\n",
    "    df=pd.DataFrame(save,columns=columns_name)\n",
    "    csv_name=f'./save_data/{code}_{sd}_{ed}.csv'\n",
    "    df.to_csv(csv_name, index=False)\n",
    "    \n"
   ]
  },
  {
   "cell_type": "code",
   "execution_count": 6,
   "id": "15b68ebd",
   "metadata": {},
   "outputs": [],
   "source": [
    "df=pd.read_csv('./종목코드.csv')\n",
    "data=df['종목코드'].values.tolist()\n",
    "codes=[]\n",
    "for s in data:\n",
    "    codes.append(str(s).zfill(6))"
   ]
  },
  {
   "cell_type": "code",
   "execution_count": 9,
   "id": "1b85f38a",
   "metadata": {},
   "outputs": [
    {
     "name": "stdout",
     "output_type": "stream",
     "text": [
      "1104 8\n",
      "994 8\n",
      "1231 8\n",
      "976 8\n",
      "1122 8\n",
      "674 8\n",
      "405 8\n",
      "180 8\n",
      "660 8\n",
      "552 8\n",
      "1227 8\n",
      "695 8\n",
      "557 8\n",
      "321 8\n",
      "465 8\n",
      "1594 8\n",
      "1516 8\n",
      "1256 8\n",
      "667 8\n",
      "1273 8\n",
      "648 8\n",
      "768 8\n"
     ]
    },
    {
     "ename": "KeyboardInterrupt",
     "evalue": "",
     "output_type": "error",
     "traceback": [
      "\u001b[1;31m---------------------------------------------------------------------------\u001b[0m",
      "\u001b[1;31mKeyboardInterrupt\u001b[0m                         Traceback (most recent call last)",
      "\u001b[1;32m~\\AppData\\Local\\Temp\\ipykernel_12448\\1630074158.py\u001b[0m in \u001b[0;36m<module>\u001b[1;34m\u001b[0m\n\u001b[0;32m      5\u001b[0m     \u001b[0minstStockChart\u001b[0m\u001b[1;33m=\u001b[0m\u001b[0mdashinChart\u001b[0m\u001b[1;33m(\u001b[0m\u001b[0mcode\u001b[0m\u001b[1;33m=\u001b[0m\u001b[0mcode\u001b[0m\u001b[1;33m,\u001b[0m\u001b[0mstartdate\u001b[0m\u001b[1;33m=\u001b[0m\u001b[0msd\u001b[0m\u001b[1;33m,\u001b[0m\u001b[0menddate\u001b[0m\u001b[1;33m=\u001b[0m\u001b[0med\u001b[0m\u001b[1;33m)\u001b[0m\u001b[1;33m\u001b[0m\u001b[1;33m\u001b[0m\u001b[0m\n\u001b[0;32m      6\u001b[0m     \u001b[0msave_csv\u001b[0m\u001b[1;33m(\u001b[0m\u001b[0minstStockChart\u001b[0m\u001b[1;33m,\u001b[0m\u001b[0msd\u001b[0m\u001b[1;33m,\u001b[0m\u001b[0med\u001b[0m\u001b[1;33m)\u001b[0m\u001b[1;33m\u001b[0m\u001b[1;33m\u001b[0m\u001b[0m\n\u001b[1;32m----> 7\u001b[1;33m     \u001b[0mtime\u001b[0m\u001b[1;33m.\u001b[0m\u001b[0msleep\u001b[0m\u001b[1;33m(\u001b[0m\u001b[1;36m3.5\u001b[0m\u001b[1;33m)\u001b[0m\u001b[1;33m\u001b[0m\u001b[1;33m\u001b[0m\u001b[0m\n\u001b[0m",
      "\u001b[1;31mKeyboardInterrupt\u001b[0m: "
     ]
    }
   ],
   "source": [
    "sd='20231106'\n",
    "ed='20231110'\n",
    "for number in codes:\n",
    "    code=f'A{number}'\n",
    "    instStockChart=dashinChart(code=code,startdate=sd,enddate=ed)\n",
    "    save_csv(instStockChart,sd,ed)\n",
    "    time.sleep(3.5)"
   ]
  },
  {
   "cell_type": "code",
   "execution_count": 12,
   "id": "edb90ae8",
   "metadata": {},
   "outputs": [
    {
     "name": "stdout",
     "output_type": "stream",
     "text": [
      "코드 로우 컬럼수\n",
      "A060310 1104 8\n"
     ]
    }
   ],
   "source": [
    "code=f'A060310'\n",
    "instStockChart=dashinChart(code=code,startdate=sd,enddate=ed)\n",
    "save_csv(instStockChart,sd,ed)\n",
    "time.sleep(3.5)"
   ]
  },
  {
   "cell_type": "code",
   "execution_count": null,
   "id": "939223bb",
   "metadata": {},
   "outputs": [],
   "source": []
  }
 ],
 "metadata": {
  "kernelspec": {
   "display_name": "test32",
   "language": "python",
   "name": "python3"
  },
  "language_info": {
   "codemirror_mode": {
    "name": "ipython",
    "version": 3
   },
   "file_extension": ".py",
   "mimetype": "text/x-python",
   "name": "python",
   "nbconvert_exporter": "python",
   "pygments_lexer": "ipython3",
   "version": "3.11.0"
  }
 },
 "nbformat": 4,
 "nbformat_minor": 5
}
