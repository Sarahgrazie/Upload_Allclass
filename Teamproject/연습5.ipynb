{
 "cells": [
  {
   "cell_type": "code",
   "execution_count": 2,
   "metadata": {},
   "outputs": [],
   "source": [
    "import requests\n",
    "from bs4 import BeautifulSoup"
   ]
  },
  {
   "cell_type": "code",
   "execution_count": 3,
   "metadata": {},
   "outputs": [],
   "source": [
    "# 웹사이트 URL\n",
    "base_url = 'https://finance.naver.com/item/main.naver?code=005930'\n",
    "\n",
    "# HTML 내용 가져오기\n",
    "html_text = requests.get(base_url).text\n",
    "\n",
    "# HTML 파싱하기\n",
    "soup = BeautifulSoup(html_text, 'lxml')\n",
    "\n",
    "# 뉴스 데이터가 있는 컨테이너 찾기\n",
    "news_container = soup.find('div', id='tab_con1')\n",
    "\n",
    "# 뉴스 데이터를 담을 리스트 생성\n",
    "news_data = []\n",
    "\n",
    "# 컨테이너 안의 모든 뉴스 링크 찾기\n",
    "news_links = news_container.find_all('a', class_='tltle')\n",
    "\n",
    "# 각 뉴스 링크에 대해 반복\n",
    "for news_link in news_links:\n",
    "    # 뉴스 제목 가져오기\n",
    "    news_title = news_link.text\n",
    "\n",
    "    # 뉴스 URL 가져오기\n",
    "    news_url = 'https://finance.naver.com' + news_link['href']\n",
    "\n",
    "    # 뉴스 URL로부터 HTML 내용 가져오기\n",
    "    news_html = requests.get(news_url).text\n",
    "\n",
    "    # HTML 파싱하기\n",
    "    news_soup = BeautifulSoup(news_html, 'lxml')\n",
    "\n",
    "    # 뉴스 날짜 가져오기\n",
    "    news_date = news_soup.find('span', class_='date').text\n",
    "\n",
    "    # 뉴스 내용 가져오기\n",
    "    news_content = news_soup.find('div', id='news_read').text.strip()\n",
    "\n",
    "    # 뉴스 이미지 가져오기 (있는 경우)\n",
    "    news_image = news_soup.find('img', id='img')\n",
    "    if news_image:\n",
    "        news_image = news_image['src']\n",
    "    else:\n",
    "        news_image = None\n",
    "\n",
    "    # 뉴스 데이터를 딕셔너리 형태로 저장\n",
    "    news_dict = {\n",
    "        'title': news_title,\n",
    "        'url': news_url,\n",
    "        'date': news_date,\n",
    "        'content': news_content,\n",
    "        'image': news_image\n",
    "    }\n",
    "\n",
    "    # 뉴스 데이터 리스트에 추가\n",
    "    news_data.append(news_dict)\n"
   ]
  },
  {
   "cell_type": "code",
   "execution_count": 4,
   "metadata": {},
   "outputs": [
    {
     "name": "stdout",
     "output_type": "stream",
     "text": [
      "[]\n"
     ]
    }
   ],
   "source": [
    "# 뉴스 데이터 리스트 출력\n",
    "print(news_data)\n"
   ]
  },
  {
   "cell_type": "code",
   "execution_count": null,
   "metadata": {},
   "outputs": [],
   "source": []
  },
  {
   "cell_type": "code",
   "execution_count": null,
   "metadata": {},
   "outputs": [],
   "source": []
  },
  {
   "cell_type": "code",
   "execution_count": null,
   "metadata": {},
   "outputs": [],
   "source": []
  },
  {
   "cell_type": "code",
   "execution_count": null,
   "metadata": {},
   "outputs": [],
   "source": []
  }
 ],
 "metadata": {
  "kernelspec": {
   "display_name": "ml-dev",
   "language": "python",
   "name": "python3"
  },
  "language_info": {
   "codemirror_mode": {
    "name": "ipython",
    "version": 3
   },
   "file_extension": ".py",
   "mimetype": "text/x-python",
   "name": "python",
   "nbconvert_exporter": "python",
   "pygments_lexer": "ipython3",
   "version": "3.10.13"
  }
 },
 "nbformat": 4,
 "nbformat_minor": 2
}
