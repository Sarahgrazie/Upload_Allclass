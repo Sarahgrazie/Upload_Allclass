{
 "cells": [
  {
   "cell_type": "code",
   "execution_count": 2,
   "metadata": {},
   "outputs": [],
   "source": [
    "import pandas as pd \n",
    "import numpy as np\n",
    "from bs4 import BeautifulSoup\n",
    "import requests\n",
    "import re\n",
    "import pandas as pd\n",
    "import os\n",
    "from datetime import datetime, timedelta"
   ]
  },
  {
   "cell_type": "code",
   "execution_count": 3,
   "metadata": {},
   "outputs": [],
   "source": [
    "PATH = 'C:\\\\Education\\\\teamproject\\\\final_prioject\\\\news\\\\종목코드.csv' #전역변수 , 상수처리는 (MUST HAVE TO THAT) CAPITAL로  FINAL(값을 못바꾼다)"
   ]
  },
  {
   "cell_type": "code",
   "execution_count": 10,
   "metadata": {},
   "outputs": [
    {
     "data": {
      "text/plain": [
       "(0              3S\n",
       " 1             APS\n",
       " 2             CBI\n",
       " 3      CJ 바이오사이언스\n",
       " 4           CJ씨푸드\n",
       "           ...    \n",
       " 937            흥국\n",
       " 938        흥국에프엔비\n",
       " 939          흥국화재\n",
       " 940            희림\n",
       " 941            힘스\n",
       " Name: 종목명, Length: 942, dtype: object,\n",
       " 0       60310\n",
       " 1       54620\n",
       " 2       13720\n",
       " 3      311690\n",
       " 4       11150\n",
       "         ...  \n",
       " 937     10240\n",
       " 938    189980\n",
       " 939       540\n",
       " 940     37440\n",
       " 941    238490\n",
       " Name: 종목코드, Length: 942, dtype: object)"
      ]
     },
     "execution_count": 10,
     "metadata": {},
     "output_type": "execute_result"
    }
   ],
   "source": [
    "data1 = pd.read_csv('./종목코드.csv')\n",
    "data1['종목명'],data1['종목코드']"
   ]
  },
  {
   "cell_type": "code",
   "execution_count": 11,
   "metadata": {},
   "outputs": [
    {
     "data": {
      "text/plain": [
       "(942,)"
      ]
     },
     "execution_count": 11,
     "metadata": {},
     "output_type": "execute_result"
    }
   ],
   "source": [
    "data1['종목명'].shape"
   ]
  },
  {
   "cell_type": "code",
   "execution_count": 19,
   "metadata": {},
   "outputs": [],
   "source": [
    "#절대경로를 쓰자 : 파일 위치가 바껴서 csv 파일은 한 폴더에 몰아놓고 절대 안옮길 파일들을 \n",
    "\n",
    "def crawler(company_code, start_date, end_date):\n",
    "    page = 1\n",
    "    \n",
    "    while True:\n",
    "        url = 'https://finance.naver.com/item/news_news.nhn?code=' + str(company_code) + '&page=' + str(page)\n",
    "        source_code = requests.get(url).text\n",
    "        html = BeautifulSoup(source_code, \"lxml\")\n",
    "        \n",
    "        titles = html.select('.title')\n",
    "        title_result = [title.get_text(strip=True) for title in titles]\n",
    "        \n",
    "        links = html.select('.title')\n",
    "        link_result = ['https://finance.naver.com' + link.find('a')['href'] for link in links]\n",
    "        \n",
    "        dates = html.select('.date')\n",
    "        date_result = [date.get_text(strip=True) for date in dates]\n",
    "                                                                            #문자열   \n",
    "        # 현재 날짜로부터 1년 6개월 전의 날짜 계산\n",
    "        #one_and_a_half_year_ago = datetime.now() - timedelta(days=1.8*365/2)\n",
    "        \n",
    "        # 예외 처리를 통해 날짜 형식이 일치하지 않으면 다시 입력받도록 수정\n",
    "        # try:\n",
    "        #     date_result = [datetime.strptime(date.replace('.', ''), '%Y%m%d') for date in date_result]\n",
    "        # except ValueError:\n",
    "        #     print(\"잘못된 날짜 형식입니다. 'YYYY.MM.DD' 또는 'YYYYMMDD' 형식으로 다시 입력해주세요.\")\n",
    "        #     return\n",
    "        \n",
    "        # 시작 날짜부터 1년 6개월 전의 뉴스만 가져오도록 필터링\n",
    "        result = {\"날짜\": date_result, \"기사제목\": title_result, \"링크\": link_result}\n",
    "        df_result = pd.DataFrame(result)\n",
    "        df_result = df_result[(df_result['날짜'] >= start_date) & (df_result['날짜'] <= end_date)]\n",
    "                                                                                    #DT 로 만들기  start_data 를 문자열로 바꿔야 형식을 맞춰서 비교 해야함 \n",
    "                                                                                    \n",
    "        if not df_result.empty:\n",
    "            print(\"다운 받고 있습니다------\")\n",
    "            df_result.to_csv(f'page{page}.csv', mode='w', encoding='utf-8-sig', index=False)\n",
    "            page += 1\n",
    "        else:\n",
    "            print(\"더 이상 뉴스가 없습니다.\")\n",
    "            break\n",
    "\n",
    "def convert_to_code(company, start_date, end_date):\n",
    "    # 가정한 데이터프레임 생성\n",
    "    data1 = pd.read_csv(PATH)\n",
    "    data1\n",
    "    # data = pd.DataFrame({'종목명': ['삼성전자', 'LG화학'], '종목코드': ['005930', '051910']})\n",
    "    \n",
    "    # 데이터프레임의 열 이름을 확인하고 수정하세요.\n",
    "    company_name_column = data1['종목명']\n",
    "    company_code_column = data1['종목코드']\n",
    "    \n",
    "    keys = company_name_column.tolist()\n",
    "    values = company_code_column.tolist()\n",
    "    \n",
    "    dict_result = dict(zip(keys, values))\n",
    "    \n",
    "    pattern = '[a-zA-Z가-힣]+' \n",
    "    \n",
    "    if bool(re.match(pattern, company)) == True:\n",
    "        company_code = dict_result.get(str(company))\n",
    "        crawler(company_code, start_date, end_date)\n",
    "    else:\n",
    "        company_code = str(company)\n",
    "        crawler(company_code, start_date, end_date)\n",
    "\n",
    "def main():\n",
    "    info_main = input(\"=\"*50+\"\\n\"+\"실시간 뉴스기사 다운받기.\"+\"\\n\"+\" 시작하시려면 Enter를 눌러주세요.\"+\"\\n\"+\"=\"*50)\n",
    "    \n",
    "    company = input(\"종목명이나 코드 입력: \") \n",
    "    end_date = input(\"종료 날짜(YYYY.MM.DD 또는 YYYYMMDD) 입력: \")\n",
    "    \n",
    "    # 예외 처리를 통해 날짜 형식이 일치하지 않으면 다시 입력받도록 수정\n",
    "    try:\n",
    "        end_date = datetime.strptime(end_date.replace('.', ''), '%Y%m%d').date()\n",
    "    except ValueError:\n",
    "        print(\"잘못된 날짜 형식입니다. 'YYYY.MM.DD' 또는 'YYYYMMDD' 형식으로 다시 입력해주세요.\")\n",
    "        return\n",
    "    # 시작 날짜를 현재 날짜로부터 1년 6개월 전으로 설정\n",
    "    start_date = (datetime.now() - timedelta(days=1.8*365/2)).date()\n",
    "    \n",
    "    print(start_date, end_date)\n",
    "    convert_to_code(company, start_date, end_date)\n"
   ]
  },
  {
   "cell_type": "code",
   "execution_count": 20,
   "metadata": {},
   "outputs": [
    {
     "name": "stdout",
     "output_type": "stream",
     "text": [
      "2023-03-07 2023-11-30\n"
     ]
    },
    {
     "ename": "TypeError",
     "evalue": "'>=' not supported between instances of 'str' and 'datetime.datetime'",
     "output_type": "error",
     "traceback": [
      "\u001b[1;31m---------------------------------------------------------------------------\u001b[0m",
      "\u001b[1;31mTypeError\u001b[0m                                 Traceback (most recent call last)",
      "Cell \u001b[1;32mIn[20], line 1\u001b[0m\n\u001b[1;32m----> 1\u001b[0m \u001b[43mmain\u001b[49m\u001b[43m(\u001b[49m\u001b[43m)\u001b[49m\n",
      "Cell \u001b[1;32mIn[19], line 83\u001b[0m, in \u001b[0;36mmain\u001b[1;34m()\u001b[0m\n\u001b[0;32m     80\u001b[0m start_date \u001b[38;5;241m=\u001b[39m (datetime\u001b[38;5;241m.\u001b[39mnow() \u001b[38;5;241m-\u001b[39m timedelta(days\u001b[38;5;241m=\u001b[39m\u001b[38;5;241m1.8\u001b[39m\u001b[38;5;241m*\u001b[39m\u001b[38;5;241m365\u001b[39m\u001b[38;5;241m/\u001b[39m\u001b[38;5;241m2\u001b[39m))\u001b[38;5;241m.\u001b[39mdate()\n\u001b[0;32m     82\u001b[0m \u001b[38;5;28mprint\u001b[39m(start_date, end_date)\n\u001b[1;32m---> 83\u001b[0m \u001b[43mconvert_to_code\u001b[49m\u001b[43m(\u001b[49m\u001b[43mcompany\u001b[49m\u001b[43m,\u001b[49m\u001b[43m \u001b[49m\u001b[43mstart_date\u001b[49m\u001b[43m,\u001b[49m\u001b[43m \u001b[49m\u001b[43mend_date\u001b[49m\u001b[43m)\u001b[49m\n",
      "Cell \u001b[1;32mIn[19], line 65\u001b[0m, in \u001b[0;36mconvert_to_code\u001b[1;34m(company, start_date, end_date)\u001b[0m\n\u001b[0;32m     63\u001b[0m \u001b[38;5;28;01melse\u001b[39;00m:\n\u001b[0;32m     64\u001b[0m     company_code \u001b[38;5;241m=\u001b[39m \u001b[38;5;28mstr\u001b[39m(company)\n\u001b[1;32m---> 65\u001b[0m     \u001b[43mcrawler\u001b[49m\u001b[43m(\u001b[49m\u001b[43mcompany_code\u001b[49m\u001b[43m,\u001b[49m\u001b[43m \u001b[49m\u001b[43mstart_date\u001b[49m\u001b[43m,\u001b[49m\u001b[43m \u001b[49m\u001b[43mend_date\u001b[49m\u001b[43m)\u001b[49m\n",
      "Cell \u001b[1;32mIn[19], line 33\u001b[0m, in \u001b[0;36mcrawler\u001b[1;34m(company_code, start_date, end_date)\u001b[0m\n\u001b[0;32m     31\u001b[0m result \u001b[38;5;241m=\u001b[39m {\u001b[38;5;124m\"\u001b[39m\u001b[38;5;124m날짜\u001b[39m\u001b[38;5;124m\"\u001b[39m: date_result, \u001b[38;5;124m\"\u001b[39m\u001b[38;5;124m기사제목\u001b[39m\u001b[38;5;124m\"\u001b[39m: title_result, \u001b[38;5;124m\"\u001b[39m\u001b[38;5;124m링크\u001b[39m\u001b[38;5;124m\"\u001b[39m: link_result}\n\u001b[0;32m     32\u001b[0m df_result \u001b[38;5;241m=\u001b[39m pd\u001b[38;5;241m.\u001b[39mDataFrame(result)\n\u001b[1;32m---> 33\u001b[0m df_result \u001b[38;5;241m=\u001b[39m df_result[(\u001b[43mdf_result\u001b[49m\u001b[43m[\u001b[49m\u001b[38;5;124;43m'\u001b[39;49m\u001b[38;5;124;43m날짜\u001b[39;49m\u001b[38;5;124;43m'\u001b[39;49m\u001b[43m]\u001b[49m\u001b[43m \u001b[49m\u001b[38;5;241;43m>\u001b[39;49m\u001b[38;5;241;43m=\u001b[39;49m\u001b[43m \u001b[49m\u001b[43mone_and_a_half_year_ago\u001b[49m) \u001b[38;5;241m&\u001b[39m (df_result[\u001b[38;5;124m'\u001b[39m\u001b[38;5;124m날짜\u001b[39m\u001b[38;5;124m'\u001b[39m] \u001b[38;5;241m<\u001b[39m\u001b[38;5;241m=\u001b[39m end_date)]\n\u001b[0;32m     35\u001b[0m \u001b[38;5;28;01mif\u001b[39;00m \u001b[38;5;129;01mnot\u001b[39;00m df_result\u001b[38;5;241m.\u001b[39mempty:\n\u001b[0;32m     36\u001b[0m     \u001b[38;5;28mprint\u001b[39m(\u001b[38;5;124m\"\u001b[39m\u001b[38;5;124m다운 받고 있습니다------\u001b[39m\u001b[38;5;124m\"\u001b[39m)\n",
      "File \u001b[1;32mc:\\ProgramData\\anaconda3\\envs\\ml-dev\\lib\\site-packages\\pandas\\core\\ops\\common.py:76\u001b[0m, in \u001b[0;36m_unpack_zerodim_and_defer.<locals>.new_method\u001b[1;34m(self, other)\u001b[0m\n\u001b[0;32m     72\u001b[0m             \u001b[38;5;28;01mreturn\u001b[39;00m \u001b[38;5;28mNotImplemented\u001b[39m\n\u001b[0;32m     74\u001b[0m other \u001b[38;5;241m=\u001b[39m item_from_zerodim(other)\n\u001b[1;32m---> 76\u001b[0m \u001b[38;5;28;01mreturn\u001b[39;00m \u001b[43mmethod\u001b[49m\u001b[43m(\u001b[49m\u001b[38;5;28;43mself\u001b[39;49m\u001b[43m,\u001b[49m\u001b[43m \u001b[49m\u001b[43mother\u001b[49m\u001b[43m)\u001b[49m\n",
      "File \u001b[1;32mc:\\ProgramData\\anaconda3\\envs\\ml-dev\\lib\\site-packages\\pandas\\core\\arraylike.py:60\u001b[0m, in \u001b[0;36mOpsMixin.__ge__\u001b[1;34m(self, other)\u001b[0m\n\u001b[0;32m     58\u001b[0m \u001b[38;5;129m@unpack_zerodim_and_defer\u001b[39m(\u001b[38;5;124m\"\u001b[39m\u001b[38;5;124m__ge__\u001b[39m\u001b[38;5;124m\"\u001b[39m)\n\u001b[0;32m     59\u001b[0m \u001b[38;5;28;01mdef\u001b[39;00m \u001b[38;5;21m__ge__\u001b[39m(\u001b[38;5;28mself\u001b[39m, other):\n\u001b[1;32m---> 60\u001b[0m     \u001b[38;5;28;01mreturn\u001b[39;00m \u001b[38;5;28;43mself\u001b[39;49m\u001b[38;5;241;43m.\u001b[39;49m\u001b[43m_cmp_method\u001b[49m\u001b[43m(\u001b[49m\u001b[43mother\u001b[49m\u001b[43m,\u001b[49m\u001b[43m \u001b[49m\u001b[43moperator\u001b[49m\u001b[38;5;241;43m.\u001b[39;49m\u001b[43mge\u001b[49m\u001b[43m)\u001b[49m\n",
      "File \u001b[1;32mc:\\ProgramData\\anaconda3\\envs\\ml-dev\\lib\\site-packages\\pandas\\core\\series.py:5803\u001b[0m, in \u001b[0;36mSeries._cmp_method\u001b[1;34m(self, other, op)\u001b[0m\n\u001b[0;32m   5800\u001b[0m lvalues \u001b[38;5;241m=\u001b[39m \u001b[38;5;28mself\u001b[39m\u001b[38;5;241m.\u001b[39m_values\n\u001b[0;32m   5801\u001b[0m rvalues \u001b[38;5;241m=\u001b[39m extract_array(other, extract_numpy\u001b[38;5;241m=\u001b[39m\u001b[38;5;28;01mTrue\u001b[39;00m, extract_range\u001b[38;5;241m=\u001b[39m\u001b[38;5;28;01mTrue\u001b[39;00m)\n\u001b[1;32m-> 5803\u001b[0m res_values \u001b[38;5;241m=\u001b[39m \u001b[43mops\u001b[49m\u001b[38;5;241;43m.\u001b[39;49m\u001b[43mcomparison_op\u001b[49m\u001b[43m(\u001b[49m\u001b[43mlvalues\u001b[49m\u001b[43m,\u001b[49m\u001b[43m \u001b[49m\u001b[43mrvalues\u001b[49m\u001b[43m,\u001b[49m\u001b[43m \u001b[49m\u001b[43mop\u001b[49m\u001b[43m)\u001b[49m\n\u001b[0;32m   5805\u001b[0m \u001b[38;5;28;01mreturn\u001b[39;00m \u001b[38;5;28mself\u001b[39m\u001b[38;5;241m.\u001b[39m_construct_result(res_values, name\u001b[38;5;241m=\u001b[39mres_name)\n",
      "File \u001b[1;32mc:\\ProgramData\\anaconda3\\envs\\ml-dev\\lib\\site-packages\\pandas\\core\\ops\\array_ops.py:346\u001b[0m, in \u001b[0;36mcomparison_op\u001b[1;34m(left, right, op)\u001b[0m\n\u001b[0;32m    343\u001b[0m     \u001b[38;5;28;01mreturn\u001b[39;00m invalid_comparison(lvalues, rvalues, op)\n\u001b[0;32m    345\u001b[0m \u001b[38;5;28;01melif\u001b[39;00m lvalues\u001b[38;5;241m.\u001b[39mdtype \u001b[38;5;241m==\u001b[39m \u001b[38;5;28mobject\u001b[39m \u001b[38;5;129;01mor\u001b[39;00m \u001b[38;5;28misinstance\u001b[39m(rvalues, \u001b[38;5;28mstr\u001b[39m):\n\u001b[1;32m--> 346\u001b[0m     res_values \u001b[38;5;241m=\u001b[39m \u001b[43mcomp_method_OBJECT_ARRAY\u001b[49m\u001b[43m(\u001b[49m\u001b[43mop\u001b[49m\u001b[43m,\u001b[49m\u001b[43m \u001b[49m\u001b[43mlvalues\u001b[49m\u001b[43m,\u001b[49m\u001b[43m \u001b[49m\u001b[43mrvalues\u001b[49m\u001b[43m)\u001b[49m\n\u001b[0;32m    348\u001b[0m \u001b[38;5;28;01melse\u001b[39;00m:\n\u001b[0;32m    349\u001b[0m     res_values \u001b[38;5;241m=\u001b[39m _na_arithmetic_op(lvalues, rvalues, op, is_cmp\u001b[38;5;241m=\u001b[39m\u001b[38;5;28;01mTrue\u001b[39;00m)\n",
      "File \u001b[1;32mc:\\ProgramData\\anaconda3\\envs\\ml-dev\\lib\\site-packages\\pandas\\core\\ops\\array_ops.py:131\u001b[0m, in \u001b[0;36mcomp_method_OBJECT_ARRAY\u001b[1;34m(op, x, y)\u001b[0m\n\u001b[0;32m    129\u001b[0m     result \u001b[38;5;241m=\u001b[39m libops\u001b[38;5;241m.\u001b[39mvec_compare(x\u001b[38;5;241m.\u001b[39mravel(), y\u001b[38;5;241m.\u001b[39mravel(), op)\n\u001b[0;32m    130\u001b[0m \u001b[38;5;28;01melse\u001b[39;00m:\n\u001b[1;32m--> 131\u001b[0m     result \u001b[38;5;241m=\u001b[39m \u001b[43mlibops\u001b[49m\u001b[38;5;241;43m.\u001b[39;49m\u001b[43mscalar_compare\u001b[49m\u001b[43m(\u001b[49m\u001b[43mx\u001b[49m\u001b[38;5;241;43m.\u001b[39;49m\u001b[43mravel\u001b[49m\u001b[43m(\u001b[49m\u001b[43m)\u001b[49m\u001b[43m,\u001b[49m\u001b[43m \u001b[49m\u001b[43my\u001b[49m\u001b[43m,\u001b[49m\u001b[43m \u001b[49m\u001b[43mop\u001b[49m\u001b[43m)\u001b[49m\n\u001b[0;32m    132\u001b[0m \u001b[38;5;28;01mreturn\u001b[39;00m result\u001b[38;5;241m.\u001b[39mreshape(x\u001b[38;5;241m.\u001b[39mshape)\n",
      "File \u001b[1;32mops.pyx:107\u001b[0m, in \u001b[0;36mpandas._libs.ops.scalar_compare\u001b[1;34m()\u001b[0m\n",
      "\u001b[1;31mTypeError\u001b[0m: '>=' not supported between instances of 'str' and 'datetime.datetime'"
     ]
    }
   ],
   "source": [
    "main()"
   ]
  }
 ],
 "metadata": {
  "kernelspec": {
   "display_name": "ml-dev",
   "language": "python",
   "name": "python3"
  },
  "language_info": {
   "codemirror_mode": {
    "name": "ipython",
    "version": 3
   },
   "file_extension": ".py",
   "mimetype": "text/x-python",
   "name": "python",
   "nbconvert_exporter": "python",
   "pygments_lexer": "ipython3",
   "version": "3.10.13"
  }
 },
 "nbformat": 4,
 "nbformat_minor": 2
}
